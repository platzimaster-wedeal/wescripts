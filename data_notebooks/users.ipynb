{
 "cells": [
  {
   "cell_type": "code",
   "execution_count": 52,
   "metadata": {},
   "outputs": [],
   "source": [
    "import pandas as pd"
   ]
  },
  {
   "cell_type": "code",
   "execution_count": 2,
   "metadata": {},
   "outputs": [],
   "source": [
    "df= pd.read_csv('../data_wedev/data_version_2/signup_data.csv')"
   ]
  },
  {
   "cell_type": "code",
   "execution_count": 5,
   "metadata": {},
   "outputs": [
    {
     "data": {
      "text/html": [
       "<div>\n",
       "<style scoped>\n",
       "    .dataframe tbody tr th:only-of-type {\n",
       "        vertical-align: middle;\n",
       "    }\n",
       "\n",
       "    .dataframe tbody tr th {\n",
       "        vertical-align: top;\n",
       "    }\n",
       "\n",
       "    .dataframe thead th {\n",
       "        text-align: right;\n",
       "    }\n",
       "</style>\n",
       "<table border=\"1\" class=\"dataframe\">\n",
       "  <thead>\n",
       "    <tr style=\"text-align: right;\">\n",
       "      <th></th>\n",
       "      <th>user_name</th>\n",
       "      <th>first_name</th>\n",
       "      <th>last_name</th>\n",
       "      <th>date_of_birth</th>\n",
       "      <th>phone</th>\n",
       "      <th>email_address</th>\n",
       "      <th>password</th>\n",
       "      <th>employee</th>\n",
       "      <th>employeer</th>\n",
       "    </tr>\n",
       "  </thead>\n",
       "  <tbody>\n",
       "    <tr>\n",
       "      <th>516</th>\n",
       "      <td>gcollopyec</td>\n",
       "      <td>Gerhardine</td>\n",
       "      <td>Collopy</td>\n",
       "      <td>12/03/1980</td>\n",
       "      <td>1223464570</td>\n",
       "      <td>gcollopyec@skype.com</td>\n",
       "      <td>U2mOTUsDni</td>\n",
       "      <td>False</td>\n",
       "      <td>True</td>\n",
       "    </tr>\n",
       "    <tr>\n",
       "      <th>1345</th>\n",
       "      <td>jossenna9l</td>\n",
       "      <td>Joelly</td>\n",
       "      <td>Ossenna</td>\n",
       "      <td>24/05/1994</td>\n",
       "      <td>9927320124</td>\n",
       "      <td>jossenna9l@uol.com.br</td>\n",
       "      <td>LwdyRQ</td>\n",
       "      <td>True</td>\n",
       "      <td>False</td>\n",
       "    </tr>\n",
       "    <tr>\n",
       "      <th>438</th>\n",
       "      <td>tdomelowc6</td>\n",
       "      <td>Theobald</td>\n",
       "      <td>Domelow</td>\n",
       "      <td>15/04/2000</td>\n",
       "      <td>2476038456</td>\n",
       "      <td>tdomelowc6@princeton.edu</td>\n",
       "      <td>XmXIro8Ai77</td>\n",
       "      <td>False</td>\n",
       "      <td>True</td>\n",
       "    </tr>\n",
       "    <tr>\n",
       "      <th>200</th>\n",
       "      <td>jtreen5k</td>\n",
       "      <td>Jehu</td>\n",
       "      <td>Treen</td>\n",
       "      <td>22/01/1969</td>\n",
       "      <td>4219191236</td>\n",
       "      <td>jtreen5k@vistaprint.com</td>\n",
       "      <td>bF5GmWJsUWDt</td>\n",
       "      <td>True</td>\n",
       "      <td>False</td>\n",
       "    </tr>\n",
       "    <tr>\n",
       "      <th>1857</th>\n",
       "      <td>jskyppnt</td>\n",
       "      <td>Jenine</td>\n",
       "      <td>Skypp</td>\n",
       "      <td>28/10/1962</td>\n",
       "      <td>7457587336</td>\n",
       "      <td>jskyppnt@ca.gov</td>\n",
       "      <td>6SxAKWV4</td>\n",
       "      <td>True</td>\n",
       "      <td>False</td>\n",
       "    </tr>\n",
       "  </tbody>\n",
       "</table>\n",
       "</div>"
      ],
      "text/plain": [
       "       user_name  first_name last_name date_of_birth       phone  \\\n",
       "516   gcollopyec  Gerhardine   Collopy    12/03/1980  1223464570   \n",
       "1345  jossenna9l      Joelly   Ossenna    24/05/1994  9927320124   \n",
       "438   tdomelowc6    Theobald   Domelow    15/04/2000  2476038456   \n",
       "200     jtreen5k        Jehu     Treen    22/01/1969  4219191236   \n",
       "1857    jskyppnt      Jenine     Skypp    28/10/1962  7457587336   \n",
       "\n",
       "                 email_address      password  employee  employeer  \n",
       "516       gcollopyec@skype.com    U2mOTUsDni     False       True  \n",
       "1345     jossenna9l@uol.com.br        LwdyRQ      True      False  \n",
       "438   tdomelowc6@princeton.edu   XmXIro8Ai77     False       True  \n",
       "200    jtreen5k@vistaprint.com  bF5GmWJsUWDt      True      False  \n",
       "1857           jskyppnt@ca.gov      6SxAKWV4      True      False  "
      ]
     },
     "execution_count": 5,
     "metadata": {},
     "output_type": "execute_result"
    }
   ],
   "source": [
    "df.sample(5)"
   ]
  },
  {
   "cell_type": "code",
   "execution_count": null,
   "metadata": {},
   "outputs": [],
   "source": [
    "#description,avatar,latitud,longitude\n"
   ]
  },
  {
   "cell_type": "code",
   "execution_count": 11,
   "metadata": {},
   "outputs": [],
   "source": [
    "df.drop(['password'], axis=1, inplace=True)"
   ]
  },
  {
   "cell_type": "code",
   "execution_count": 4,
   "metadata": {},
   "outputs": [],
   "source": [
    "df.drop(['nacionality'], axis=1, inplace=True)"
   ]
  },
  {
   "cell_type": "code",
   "execution_count": 6,
   "metadata": {},
   "outputs": [
    {
     "data": {
      "text/plain": [
       "(2000, 9)"
      ]
     },
     "execution_count": 6,
     "metadata": {},
     "output_type": "execute_result"
    }
   ],
   "source": [
    "df.shape"
   ]
  },
  {
   "cell_type": "code",
   "execution_count": 7,
   "metadata": {},
   "outputs": [],
   "source": [
    "i = [i for i in range(2000)]"
   ]
  },
  {
   "cell_type": "code",
   "execution_count": 8,
   "metadata": {},
   "outputs": [],
   "source": [
    "id_city = pd.Series(i)\n",
    "id_work_area = pd.Series(i)"
   ]
  },
  {
   "cell_type": "code",
   "execution_count": 9,
   "metadata": {},
   "outputs": [],
   "source": [
    "df['id_city'] = id_city\n",
    "df['id_work_area'] = id_work_area"
   ]
  },
  {
   "cell_type": "code",
   "execution_count": 12,
   "metadata": {},
   "outputs": [
    {
     "data": {
      "text/html": [
       "<div>\n",
       "<style scoped>\n",
       "    .dataframe tbody tr th:only-of-type {\n",
       "        vertical-align: middle;\n",
       "    }\n",
       "\n",
       "    .dataframe tbody tr th {\n",
       "        vertical-align: top;\n",
       "    }\n",
       "\n",
       "    .dataframe thead th {\n",
       "        text-align: right;\n",
       "    }\n",
       "</style>\n",
       "<table border=\"1\" class=\"dataframe\">\n",
       "  <thead>\n",
       "    <tr style=\"text-align: right;\">\n",
       "      <th></th>\n",
       "      <th>user_name</th>\n",
       "      <th>first_name</th>\n",
       "      <th>last_name</th>\n",
       "      <th>date_of_birth</th>\n",
       "      <th>phone</th>\n",
       "      <th>email_address</th>\n",
       "      <th>employee</th>\n",
       "      <th>employeer</th>\n",
       "      <th>id_city</th>\n",
       "      <th>id_work_area</th>\n",
       "    </tr>\n",
       "  </thead>\n",
       "  <tbody>\n",
       "    <tr>\n",
       "      <th>545</th>\n",
       "      <td>khargeyf5</td>\n",
       "      <td>Karlotte</td>\n",
       "      <td>Hargey</td>\n",
       "      <td>27/04/1977</td>\n",
       "      <td>5509896778</td>\n",
       "      <td>khargeyf5@yellowpages.com</td>\n",
       "      <td>True</td>\n",
       "      <td>False</td>\n",
       "      <td>545</td>\n",
       "      <td>545</td>\n",
       "    </tr>\n",
       "    <tr>\n",
       "      <th>572</th>\n",
       "      <td>vpettegrefw</td>\n",
       "      <td>Vilma</td>\n",
       "      <td>Pettegre</td>\n",
       "      <td>02/11/1986</td>\n",
       "      <td>5851631556</td>\n",
       "      <td>vpettegrefw@jigsy.com</td>\n",
       "      <td>False</td>\n",
       "      <td>True</td>\n",
       "      <td>572</td>\n",
       "      <td>572</td>\n",
       "    </tr>\n",
       "    <tr>\n",
       "      <th>813</th>\n",
       "      <td>cbrusbyml</td>\n",
       "      <td>Cob</td>\n",
       "      <td>Brusby</td>\n",
       "      <td>05/03/1992</td>\n",
       "      <td>7789345107</td>\n",
       "      <td>cbrusbyml@flavors.me</td>\n",
       "      <td>False</td>\n",
       "      <td>True</td>\n",
       "      <td>813</td>\n",
       "      <td>813</td>\n",
       "    </tr>\n",
       "    <tr>\n",
       "      <th>884</th>\n",
       "      <td>vspeaksok</td>\n",
       "      <td>Virgie</td>\n",
       "      <td>Speaks</td>\n",
       "      <td>21/08/1982</td>\n",
       "      <td>7532405291</td>\n",
       "      <td>vspeaksok@alibaba.com</td>\n",
       "      <td>True</td>\n",
       "      <td>False</td>\n",
       "      <td>884</td>\n",
       "      <td>884</td>\n",
       "    </tr>\n",
       "    <tr>\n",
       "      <th>440</th>\n",
       "      <td>mcottyc8</td>\n",
       "      <td>Melisandra</td>\n",
       "      <td>Cotty</td>\n",
       "      <td>01/07/1995</td>\n",
       "      <td>7736622737</td>\n",
       "      <td>mcottyc8@nyu.edu</td>\n",
       "      <td>False</td>\n",
       "      <td>True</td>\n",
       "      <td>440</td>\n",
       "      <td>440</td>\n",
       "    </tr>\n",
       "  </tbody>\n",
       "</table>\n",
       "</div>"
      ],
      "text/plain": [
       "       user_name  first_name last_name date_of_birth       phone  \\\n",
       "545    khargeyf5    Karlotte    Hargey    27/04/1977  5509896778   \n",
       "572  vpettegrefw       Vilma  Pettegre    02/11/1986  5851631556   \n",
       "813    cbrusbyml         Cob    Brusby    05/03/1992  7789345107   \n",
       "884    vspeaksok      Virgie    Speaks    21/08/1982  7532405291   \n",
       "440     mcottyc8  Melisandra     Cotty    01/07/1995  7736622737   \n",
       "\n",
       "                 email_address  employee  employeer  id_city  id_work_area  \n",
       "545  khargeyf5@yellowpages.com      True      False      545           545  \n",
       "572      vpettegrefw@jigsy.com     False       True      572           572  \n",
       "813       cbrusbyml@flavors.me     False       True      813           813  \n",
       "884      vspeaksok@alibaba.com      True      False      884           884  \n",
       "440           mcottyc8@nyu.edu     False       True      440           440  "
      ]
     },
     "execution_count": 12,
     "metadata": {},
     "output_type": "execute_result"
    }
   ],
   "source": [
    "df.sample(5)"
   ]
  },
  {
   "cell_type": "code",
   "execution_count": 13,
   "metadata": {},
   "outputs": [],
   "source": [
    "df2= pd.read_csv('../data_wedev/data_version_2/general_data.csv')"
   ]
  },
  {
   "cell_type": "code",
   "execution_count": 17,
   "metadata": {},
   "outputs": [
    {
     "data": {
      "text/html": [
       "<div>\n",
       "<style scoped>\n",
       "    .dataframe tbody tr th:only-of-type {\n",
       "        vertical-align: middle;\n",
       "    }\n",
       "\n",
       "    .dataframe tbody tr th {\n",
       "        vertical-align: top;\n",
       "    }\n",
       "\n",
       "    .dataframe thead th {\n",
       "        text-align: right;\n",
       "    }\n",
       "</style>\n",
       "<table border=\"1\" class=\"dataframe\">\n",
       "  <thead>\n",
       "    <tr style=\"text-align: right;\">\n",
       "      <th></th>\n",
       "      <th>profile_picture</th>\n",
       "      <th>description</th>\n",
       "    </tr>\n",
       "  </thead>\n",
       "  <tbody>\n",
       "    <tr>\n",
       "      <th>628</th>\n",
       "      <td>data:image/gif;base64,R0lGODlhAQABAIAAAAAAAP//...</td>\n",
       "      <td>As a founder of Stark Digital Media Services, ...</td>\n",
       "    </tr>\n",
       "    <tr>\n",
       "      <th>783</th>\n",
       "      <td>https://media-exp1.licdn.com/dms/image/C4D03AQ...</td>\n",
       "      <td>Promoting basic research in Science and Engine...</td>\n",
       "    </tr>\n",
       "    <tr>\n",
       "      <th>1029</th>\n",
       "      <td>https://media-exp1.licdn.com/dms/image/C4E03AQ...</td>\n",
       "      <td>I take pride in taking an active interest in w...</td>\n",
       "    </tr>\n",
       "    <tr>\n",
       "      <th>128</th>\n",
       "      <td>https://media-exp1.licdn.com/dms/image/C5103AQ...</td>\n",
       "      <td>..... see more</td>\n",
       "    </tr>\n",
       "    <tr>\n",
       "      <th>942</th>\n",
       "      <td>data:image/gif;base64,R0lGODlhAQABAIAAAAAAAP//...</td>\n",
       "      <td>A competent professional with over 16 years of...</td>\n",
       "    </tr>\n",
       "  </tbody>\n",
       "</table>\n",
       "</div>"
      ],
      "text/plain": [
       "                                        profile_picture  \\\n",
       "628   data:image/gif;base64,R0lGODlhAQABAIAAAAAAAP//...   \n",
       "783   https://media-exp1.licdn.com/dms/image/C4D03AQ...   \n",
       "1029  https://media-exp1.licdn.com/dms/image/C4E03AQ...   \n",
       "128   https://media-exp1.licdn.com/dms/image/C5103AQ...   \n",
       "942   data:image/gif;base64,R0lGODlhAQABAIAAAAAAAP//...   \n",
       "\n",
       "                                            description  \n",
       "628   As a founder of Stark Digital Media Services, ...  \n",
       "783   Promoting basic research in Science and Engine...  \n",
       "1029  I take pride in taking an active interest in w...  \n",
       "128                                      ..... see more  \n",
       "942   A competent professional with over 16 years of...  "
      ]
     },
     "execution_count": 17,
     "metadata": {},
     "output_type": "execute_result"
    }
   ],
   "source": [
    "df2.sample(5)"
   ]
  },
  {
   "cell_type": "code",
   "execution_count": 19,
   "metadata": {},
   "outputs": [
    {
     "data": {
      "text/plain": [
       "(1251, 2)"
      ]
     },
     "execution_count": 19,
     "metadata": {},
     "output_type": "execute_result"
    }
   ],
   "source": [
    "df2.shape"
   ]
  },
  {
   "cell_type": "code",
   "execution_count": 16,
   "metadata": {},
   "outputs": [],
   "source": [
    "df2.drop(['category'], axis=1, inplace=True)"
   ]
  },
  {
   "cell_type": "code",
   "execution_count": 20,
   "metadata": {},
   "outputs": [],
   "source": [
    "df3 = df2"
   ]
  },
  {
   "cell_type": "code",
   "execution_count": 21,
   "metadata": {},
   "outputs": [],
   "source": [
    "df4= pd.concat([df3, df2])"
   ]
  },
  {
   "cell_type": "code",
   "execution_count": 22,
   "metadata": {},
   "outputs": [
    {
     "data": {
      "text/html": [
       "<div>\n",
       "<style scoped>\n",
       "    .dataframe tbody tr th:only-of-type {\n",
       "        vertical-align: middle;\n",
       "    }\n",
       "\n",
       "    .dataframe tbody tr th {\n",
       "        vertical-align: top;\n",
       "    }\n",
       "\n",
       "    .dataframe thead th {\n",
       "        text-align: right;\n",
       "    }\n",
       "</style>\n",
       "<table border=\"1\" class=\"dataframe\">\n",
       "  <thead>\n",
       "    <tr style=\"text-align: right;\">\n",
       "      <th></th>\n",
       "      <th>profile_picture</th>\n",
       "      <th>description</th>\n",
       "    </tr>\n",
       "  </thead>\n",
       "  <tbody>\n",
       "    <tr>\n",
       "      <th>1058</th>\n",
       "      <td>data:image/gif;base64,R0lGODlhAQABAIAAAAAAAP//...</td>\n",
       "      <td>SWAN Design and ARCHITECTSFrom its inception i...</td>\n",
       "    </tr>\n",
       "    <tr>\n",
       "      <th>539</th>\n",
       "      <td>https://media-exp1.licdn.com/dms/image/C5103AQ...</td>\n",
       "      <td>Honest and motivated employee with a proven tr...</td>\n",
       "    </tr>\n",
       "    <tr>\n",
       "      <th>74</th>\n",
       "      <td>data:image/gif;base64,R0lGODlhAQABAIAAAAAAAP//...</td>\n",
       "      <td>Professional Qualification: MCA [Full Time fro...</td>\n",
       "    </tr>\n",
       "    <tr>\n",
       "      <th>1130</th>\n",
       "      <td>https://media-exp1.licdn.com/dms/image/C5103AQ...</td>\n",
       "      <td>An open-minded and results - driven profession...</td>\n",
       "    </tr>\n",
       "    <tr>\n",
       "      <th>475</th>\n",
       "      <td>data:image/gif;base64,R0lGODlhAQABAIAAAAAAAP//...</td>\n",
       "      <td>Global Leader, over 25 years of experience wit...</td>\n",
       "    </tr>\n",
       "  </tbody>\n",
       "</table>\n",
       "</div>"
      ],
      "text/plain": [
       "                                        profile_picture  \\\n",
       "1058  data:image/gif;base64,R0lGODlhAQABAIAAAAAAAP//...   \n",
       "539   https://media-exp1.licdn.com/dms/image/C5103AQ...   \n",
       "74    data:image/gif;base64,R0lGODlhAQABAIAAAAAAAP//...   \n",
       "1130  https://media-exp1.licdn.com/dms/image/C5103AQ...   \n",
       "475   data:image/gif;base64,R0lGODlhAQABAIAAAAAAAP//...   \n",
       "\n",
       "                                            description  \n",
       "1058  SWAN Design and ARCHITECTSFrom its inception i...  \n",
       "539   Honest and motivated employee with a proven tr...  \n",
       "74    Professional Qualification: MCA [Full Time fro...  \n",
       "1130  An open-minded and results - driven profession...  \n",
       "475   Global Leader, over 25 years of experience wit...  "
      ]
     },
     "execution_count": 22,
     "metadata": {},
     "output_type": "execute_result"
    }
   ],
   "source": [
    "df4.sample(5)"
   ]
  },
  {
   "cell_type": "code",
   "execution_count": 23,
   "metadata": {},
   "outputs": [
    {
     "data": {
      "text/plain": [
       "(2502, 2)"
      ]
     },
     "execution_count": 23,
     "metadata": {},
     "output_type": "execute_result"
    }
   ],
   "source": [
    "df4.shape"
   ]
  },
  {
   "cell_type": "code",
   "execution_count": 31,
   "metadata": {},
   "outputs": [
    {
     "data": {
      "text/html": [
       "<div>\n",
       "<style scoped>\n",
       "    .dataframe tbody tr th:only-of-type {\n",
       "        vertical-align: middle;\n",
       "    }\n",
       "\n",
       "    .dataframe tbody tr th {\n",
       "        vertical-align: top;\n",
       "    }\n",
       "\n",
       "    .dataframe thead th {\n",
       "        text-align: right;\n",
       "    }\n",
       "</style>\n",
       "<table border=\"1\" class=\"dataframe\">\n",
       "  <thead>\n",
       "    <tr style=\"text-align: right;\">\n",
       "      <th></th>\n",
       "      <th>profile_picture</th>\n",
       "      <th>description</th>\n",
       "    </tr>\n",
       "  </thead>\n",
       "  <tbody>\n",
       "    <tr>\n",
       "      <th>0</th>\n",
       "      <td>https://media-exp1.licdn.com/dms/image/C5603AQ...</td>\n",
       "      <td>An experienced HR professional,  HR mentor and...</td>\n",
       "    </tr>\n",
       "    <tr>\n",
       "      <th>1</th>\n",
       "      <td>https://media-exp1.licdn.com/dms/image/C5103AQ...</td>\n",
       "      <td>Head Talent Acquisition, HR Leader and Strateg...</td>\n",
       "    </tr>\n",
       "    <tr>\n",
       "      <th>2</th>\n",
       "      <td>data:image/gif;base64,R0lGODlhAQABAIAAAAAAAP//...</td>\n",
       "      <td>A Talent Acquisition and HR professional with ...</td>\n",
       "    </tr>\n",
       "    <tr>\n",
       "      <th>3</th>\n",
       "      <td>data:image/gif;base64,R0lGODlhAQABAIAAAAAAAP//...</td>\n",
       "      <td>Over 18 Years of experience in IT /ITES  / BPO...</td>\n",
       "    </tr>\n",
       "    <tr>\n",
       "      <th>4</th>\n",
       "      <td>https://media-exp1.licdn.com/dms/image/C5103AQ...</td>\n",
       "      <td>Over 18 Years of experience in IT /ITES  / BPO...</td>\n",
       "    </tr>\n",
       "    <tr>\n",
       "      <th>...</th>\n",
       "      <td>...</td>\n",
       "      <td>...</td>\n",
       "    </tr>\n",
       "    <tr>\n",
       "      <th>744</th>\n",
       "      <td>https://media-exp1.licdn.com/dms/image/C4E03AQ...</td>\n",
       "      <td>My PhD is on theoretical analysis, complexity ...</td>\n",
       "    </tr>\n",
       "    <tr>\n",
       "      <th>745</th>\n",
       "      <td>https://media-exp1.licdn.com/dms/image/C5103AQ...</td>\n",
       "      <td>With Citi TTS for last 10 years across Mumbai,...</td>\n",
       "    </tr>\n",
       "    <tr>\n",
       "      <th>746</th>\n",
       "      <td>https://media-exp1.licdn.com/dms/image/C5603AQ...</td>\n",
       "      <td>With Citi TTS for last 10 years across Mumbai,...</td>\n",
       "    </tr>\n",
       "    <tr>\n",
       "      <th>747</th>\n",
       "      <td>https://media-exp1.licdn.com/dms/image/C5103AQ...</td>\n",
       "      <td>CURRICULUM VITAE</td>\n",
       "    </tr>\n",
       "    <tr>\n",
       "      <th>748</th>\n",
       "      <td>https://media-exp1.licdn.com/dms/image/C4D03AQ...</td>\n",
       "      <td>CURRICULUM VITAE</td>\n",
       "    </tr>\n",
       "  </tbody>\n",
       "</table>\n",
       "<p>2000 rows × 2 columns</p>\n",
       "</div>"
      ],
      "text/plain": [
       "                                       profile_picture  \\\n",
       "0    https://media-exp1.licdn.com/dms/image/C5603AQ...   \n",
       "1    https://media-exp1.licdn.com/dms/image/C5103AQ...   \n",
       "2    data:image/gif;base64,R0lGODlhAQABAIAAAAAAAP//...   \n",
       "3    data:image/gif;base64,R0lGODlhAQABAIAAAAAAAP//...   \n",
       "4    https://media-exp1.licdn.com/dms/image/C5103AQ...   \n",
       "..                                                 ...   \n",
       "744  https://media-exp1.licdn.com/dms/image/C4E03AQ...   \n",
       "745  https://media-exp1.licdn.com/dms/image/C5103AQ...   \n",
       "746  https://media-exp1.licdn.com/dms/image/C5603AQ...   \n",
       "747  https://media-exp1.licdn.com/dms/image/C5103AQ...   \n",
       "748  https://media-exp1.licdn.com/dms/image/C4D03AQ...   \n",
       "\n",
       "                                           description  \n",
       "0    An experienced HR professional,  HR mentor and...  \n",
       "1    Head Talent Acquisition, HR Leader and Strateg...  \n",
       "2    A Talent Acquisition and HR professional with ...  \n",
       "3    Over 18 Years of experience in IT /ITES  / BPO...  \n",
       "4    Over 18 Years of experience in IT /ITES  / BPO...  \n",
       "..                                                 ...  \n",
       "744  My PhD is on theoretical analysis, complexity ...  \n",
       "745  With Citi TTS for last 10 years across Mumbai,...  \n",
       "746  With Citi TTS for last 10 years across Mumbai,...  \n",
       "747                                   CURRICULUM VITAE  \n",
       "748                                   CURRICULUM VITAE  \n",
       "\n",
       "[2000 rows x 2 columns]"
      ]
     },
     "execution_count": 31,
     "metadata": {},
     "output_type": "execute_result"
    }
   ],
   "source": [
    "df4.iloc[:2000]"
   ]
  },
  {
   "cell_type": "code",
   "execution_count": 32,
   "metadata": {},
   "outputs": [],
   "source": [
    "df5 = df4.iloc[:2000]"
   ]
  },
  {
   "cell_type": "code",
   "execution_count": 33,
   "metadata": {},
   "outputs": [
    {
     "data": {
      "text/plain": [
       "(2000, 2)"
      ]
     },
     "execution_count": 33,
     "metadata": {},
     "output_type": "execute_result"
    }
   ],
   "source": [
    "df5.shape"
   ]
  },
  {
   "cell_type": "code",
   "execution_count": 34,
   "metadata": {},
   "outputs": [
    {
     "data": {
      "text/plain": [
       "(2000, 10)"
      ]
     },
     "execution_count": 34,
     "metadata": {},
     "output_type": "execute_result"
    }
   ],
   "source": [
    "df.shape"
   ]
  },
  {
   "cell_type": "code",
   "execution_count": 35,
   "metadata": {},
   "outputs": [],
   "source": [
    "df6= pd.read_csv('../data_wedev/data_version_2/geolocation_data.csv')"
   ]
  },
  {
   "cell_type": "code",
   "execution_count": 36,
   "metadata": {},
   "outputs": [],
   "source": [
    "df7 = df6.iloc[:2000]"
   ]
  },
  {
   "cell_type": "code",
   "execution_count": 37,
   "metadata": {},
   "outputs": [
    {
     "data": {
      "text/plain": [
       "(2000, 2)"
      ]
     },
     "execution_count": 37,
     "metadata": {},
     "output_type": "execute_result"
    }
   ],
   "source": [
    "df7.shape"
   ]
  },
  {
   "cell_type": "code",
   "execution_count": 38,
   "metadata": {},
   "outputs": [],
   "source": [
    "result = pd.merge(df5.reset_index(),\n",
    "                  df.reset_index(), \n",
    "                  left_index=True, \n",
    "                  right_index=True)"
   ]
  },
  {
   "cell_type": "code",
   "execution_count": 39,
   "metadata": {},
   "outputs": [
    {
     "data": {
      "text/plain": [
       "(2000, 14)"
      ]
     },
     "execution_count": 39,
     "metadata": {},
     "output_type": "execute_result"
    }
   ],
   "source": [
    "result.shape"
   ]
  },
  {
   "cell_type": "code",
   "execution_count": 42,
   "metadata": {},
   "outputs": [
    {
     "data": {
      "text/html": [
       "<div>\n",
       "<style scoped>\n",
       "    .dataframe tbody tr th:only-of-type {\n",
       "        vertical-align: middle;\n",
       "    }\n",
       "\n",
       "    .dataframe tbody tr th {\n",
       "        vertical-align: top;\n",
       "    }\n",
       "\n",
       "    .dataframe thead th {\n",
       "        text-align: right;\n",
       "    }\n",
       "</style>\n",
       "<table border=\"1\" class=\"dataframe\">\n",
       "  <thead>\n",
       "    <tr style=\"text-align: right;\">\n",
       "      <th></th>\n",
       "      <th>profile_picture</th>\n",
       "      <th>description</th>\n",
       "      <th>user_name</th>\n",
       "      <th>first_name</th>\n",
       "      <th>last_name</th>\n",
       "      <th>date_of_birth</th>\n",
       "      <th>phone</th>\n",
       "      <th>email_address</th>\n",
       "      <th>employee</th>\n",
       "      <th>employeer</th>\n",
       "      <th>id_city</th>\n",
       "      <th>id_work_area</th>\n",
       "    </tr>\n",
       "  </thead>\n",
       "  <tbody>\n",
       "    <tr>\n",
       "      <th>1373</th>\n",
       "      <td>https://media-exp1.licdn.com/dms/image/C5603AQ...</td>\n",
       "      <td>Seeking a position to utilize my skills and ab...</td>\n",
       "      <td>jlezemeread</td>\n",
       "      <td>Jodi</td>\n",
       "      <td>Lezemere</td>\n",
       "      <td>18/05/1974</td>\n",
       "      <td>9943846919</td>\n",
       "      <td>jlezemeread@ucoz.com</td>\n",
       "      <td>True</td>\n",
       "      <td>False</td>\n",
       "      <td>1373</td>\n",
       "      <td>1373</td>\n",
       "    </tr>\n",
       "    <tr>\n",
       "      <th>1910</th>\n",
       "      <td>https://media-exp1.licdn.com/dms/image/C5103AQ...</td>\n",
       "      <td>Our young and passionate team of digital marke...</td>\n",
       "      <td>gbergerpa</td>\n",
       "      <td>Gaspar</td>\n",
       "      <td>Berger</td>\n",
       "      <td>23/07/1962</td>\n",
       "      <td>7425701969</td>\n",
       "      <td>gbergerpa@seesaa.net</td>\n",
       "      <td>False</td>\n",
       "      <td>True</td>\n",
       "      <td>1910</td>\n",
       "      <td>1910</td>\n",
       "    </tr>\n",
       "    <tr>\n",
       "      <th>426</th>\n",
       "      <td>https://media-exp1.licdn.com/dms/image/C4E03AQ...</td>\n",
       "      <td>As being a student at Southern University and ...</td>\n",
       "      <td>aclitheroebu</td>\n",
       "      <td>Aprilette</td>\n",
       "      <td>Clitheroe</td>\n",
       "      <td>18/12/1963</td>\n",
       "      <td>3354957855</td>\n",
       "      <td>aclitheroebu@icio.us</td>\n",
       "      <td>True</td>\n",
       "      <td>False</td>\n",
       "      <td>426</td>\n",
       "      <td>426</td>\n",
       "    </tr>\n",
       "    <tr>\n",
       "      <th>789</th>\n",
       "      <td>data:image/gif;base64,R0lGODlhAQABAIAAAAAAAP//...</td>\n",
       "      <td>Intended to build a career with leading corpor...</td>\n",
       "      <td>lfreanlx</td>\n",
       "      <td>Laverna</td>\n",
       "      <td>Frean</td>\n",
       "      <td>08/08/1974</td>\n",
       "      <td>2494281099</td>\n",
       "      <td>lfreanlx@trellian.com</td>\n",
       "      <td>True</td>\n",
       "      <td>False</td>\n",
       "      <td>789</td>\n",
       "      <td>789</td>\n",
       "    </tr>\n",
       "    <tr>\n",
       "      <th>1917</th>\n",
       "      <td>data:image/gif;base64,R0lGODlhAQABAIAAAAAAAP//...</td>\n",
       "      <td>A digital storyteller and brand professional w...</td>\n",
       "      <td>tleiferph</td>\n",
       "      <td>Temp</td>\n",
       "      <td>Leifer</td>\n",
       "      <td>14/06/1997</td>\n",
       "      <td>2988284786</td>\n",
       "      <td>tleiferph@cisco.com</td>\n",
       "      <td>False</td>\n",
       "      <td>True</td>\n",
       "      <td>1917</td>\n",
       "      <td>1917</td>\n",
       "    </tr>\n",
       "  </tbody>\n",
       "</table>\n",
       "</div>"
      ],
      "text/plain": [
       "                                        profile_picture  \\\n",
       "1373  https://media-exp1.licdn.com/dms/image/C5603AQ...   \n",
       "1910  https://media-exp1.licdn.com/dms/image/C5103AQ...   \n",
       "426   https://media-exp1.licdn.com/dms/image/C4E03AQ...   \n",
       "789   data:image/gif;base64,R0lGODlhAQABAIAAAAAAAP//...   \n",
       "1917  data:image/gif;base64,R0lGODlhAQABAIAAAAAAAP//...   \n",
       "\n",
       "                                            description     user_name  \\\n",
       "1373  Seeking a position to utilize my skills and ab...   jlezemeread   \n",
       "1910  Our young and passionate team of digital marke...     gbergerpa   \n",
       "426   As being a student at Southern University and ...  aclitheroebu   \n",
       "789   Intended to build a career with leading corpor...      lfreanlx   \n",
       "1917  A digital storyteller and brand professional w...     tleiferph   \n",
       "\n",
       "     first_name  last_name date_of_birth       phone          email_address  \\\n",
       "1373       Jodi   Lezemere    18/05/1974  9943846919   jlezemeread@ucoz.com   \n",
       "1910     Gaspar     Berger    23/07/1962  7425701969   gbergerpa@seesaa.net   \n",
       "426   Aprilette  Clitheroe    18/12/1963  3354957855   aclitheroebu@icio.us   \n",
       "789     Laverna      Frean    08/08/1974  2494281099  lfreanlx@trellian.com   \n",
       "1917       Temp     Leifer    14/06/1997  2988284786    tleiferph@cisco.com   \n",
       "\n",
       "      employee  employeer  id_city  id_work_area  \n",
       "1373      True      False     1373          1373  \n",
       "1910     False       True     1910          1910  \n",
       "426       True      False      426           426  \n",
       "789       True      False      789           789  \n",
       "1917     False       True     1917          1917  "
      ]
     },
     "execution_count": 42,
     "metadata": {},
     "output_type": "execute_result"
    }
   ],
   "source": [
    "result.sample(5)"
   ]
  },
  {
   "cell_type": "code",
   "execution_count": 41,
   "metadata": {},
   "outputs": [],
   "source": [
    "result.drop(['index_x','index_y'],axis=1, inplace=True)"
   ]
  },
  {
   "cell_type": "code",
   "execution_count": 43,
   "metadata": {},
   "outputs": [],
   "source": [
    "result2 = pd.merge(result.reset_index(),\n",
    "                  df7.reset_index(), \n",
    "                  left_index=True, \n",
    "                  right_index=True)"
   ]
  },
  {
   "cell_type": "code",
   "execution_count": 47,
   "metadata": {},
   "outputs": [],
   "source": [
    "result2.drop(['index_x','index_y'],axis=1, inplace=True)"
   ]
  },
  {
   "cell_type": "code",
   "execution_count": 57,
   "metadata": {},
   "outputs": [
    {
     "data": {
      "text/html": [
       "<div>\n",
       "<style scoped>\n",
       "    .dataframe tbody tr th:only-of-type {\n",
       "        vertical-align: middle;\n",
       "    }\n",
       "\n",
       "    .dataframe tbody tr th {\n",
       "        vertical-align: top;\n",
       "    }\n",
       "\n",
       "    .dataframe thead th {\n",
       "        text-align: right;\n",
       "    }\n",
       "</style>\n",
       "<table border=\"1\" class=\"dataframe\">\n",
       "  <thead>\n",
       "    <tr style=\"text-align: right;\">\n",
       "      <th></th>\n",
       "      <th>profile_picture</th>\n",
       "      <th>description</th>\n",
       "      <th>user_name</th>\n",
       "      <th>first_name</th>\n",
       "      <th>last_name</th>\n",
       "      <th>date_of_birth</th>\n",
       "      <th>phone</th>\n",
       "      <th>email_address</th>\n",
       "      <th>employee</th>\n",
       "      <th>employeer</th>\n",
       "      <th>latitude</th>\n",
       "      <th>longitude</th>\n",
       "      <th>id_work_area</th>\n",
       "    </tr>\n",
       "  </thead>\n",
       "  <tbody>\n",
       "    <tr>\n",
       "      <th>916</th>\n",
       "      <td>https://media-exp1.licdn.com/dms/image/C4D03AQ...</td>\n",
       "      <td>Experienced CSR with 4.5 years of experience w...</td>\n",
       "      <td>smcnerlinpg</td>\n",
       "      <td>Suzanna</td>\n",
       "      <td>McNerlin</td>\n",
       "      <td>30/12/1983</td>\n",
       "      <td>1978591859</td>\n",
       "      <td>smcnerlinpg@usgs.gov</td>\n",
       "      <td>False</td>\n",
       "      <td>True</td>\n",
       "      <td>32.066829</td>\n",
       "      <td>34.783039</td>\n",
       "      <td>10</td>\n",
       "    </tr>\n",
       "    <tr>\n",
       "      <th>1188</th>\n",
       "      <td>https://media-exp1.licdn.com/dms/image/C5603AQ...</td>\n",
       "      <td>Key Strengths and Core Competencies:</td>\n",
       "      <td>wjouhning58</td>\n",
       "      <td>Wandis</td>\n",
       "      <td>Jouhning</td>\n",
       "      <td>04/07/1965</td>\n",
       "      <td>4281287352</td>\n",
       "      <td>wjouhning58@virginia.edu</td>\n",
       "      <td>True</td>\n",
       "      <td>False</td>\n",
       "      <td>32.063670</td>\n",
       "      <td>34.778960</td>\n",
       "      <td>25</td>\n",
       "    </tr>\n",
       "    <tr>\n",
       "      <th>1720</th>\n",
       "      <td>data:image/gif;base64,R0lGODlhAQABAIAAAAAAAP//...</td>\n",
       "      <td>Global Leader, over 25 years of experience wit...</td>\n",
       "      <td>dwillartonk0</td>\n",
       "      <td>Darbie</td>\n",
       "      <td>Willarton</td>\n",
       "      <td>26/10/1962</td>\n",
       "      <td>8235147790</td>\n",
       "      <td>dwillartonk0@ehow.com</td>\n",
       "      <td>False</td>\n",
       "      <td>True</td>\n",
       "      <td>32.052560</td>\n",
       "      <td>34.804630</td>\n",
       "      <td>10</td>\n",
       "    </tr>\n",
       "    <tr>\n",
       "      <th>638</th>\n",
       "      <td>https://media-exp1.licdn.com/dms/image/C5103AQ...</td>\n",
       "      <td>HOMES FOR LIFE</td>\n",
       "      <td>hbehanhq</td>\n",
       "      <td>Hester</td>\n",
       "      <td>Behan</td>\n",
       "      <td>12/12/1999</td>\n",
       "      <td>5048864768</td>\n",
       "      <td>hbehanhq@irs.gov</td>\n",
       "      <td>False</td>\n",
       "      <td>True</td>\n",
       "      <td>32.076217</td>\n",
       "      <td>34.771447</td>\n",
       "      <td>14</td>\n",
       "    </tr>\n",
       "    <tr>\n",
       "      <th>1442</th>\n",
       "      <td>https://media-exp1.licdn.com/dms/image/C5103AQ...</td>\n",
       "      <td>Performance driven senior executive with over ...</td>\n",
       "      <td>ishelpca</td>\n",
       "      <td>Inesita</td>\n",
       "      <td>Shelp</td>\n",
       "      <td>03/09/1973</td>\n",
       "      <td>5373499561</td>\n",
       "      <td>ishelpca@google.cn</td>\n",
       "      <td>True</td>\n",
       "      <td>False</td>\n",
       "      <td>32.096090</td>\n",
       "      <td>34.792110</td>\n",
       "      <td>7</td>\n",
       "    </tr>\n",
       "  </tbody>\n",
       "</table>\n",
       "</div>"
      ],
      "text/plain": [
       "                                        profile_picture  \\\n",
       "916   https://media-exp1.licdn.com/dms/image/C4D03AQ...   \n",
       "1188  https://media-exp1.licdn.com/dms/image/C5603AQ...   \n",
       "1720  data:image/gif;base64,R0lGODlhAQABAIAAAAAAAP//...   \n",
       "638   https://media-exp1.licdn.com/dms/image/C5103AQ...   \n",
       "1442  https://media-exp1.licdn.com/dms/image/C5103AQ...   \n",
       "\n",
       "                                            description     user_name  \\\n",
       "916   Experienced CSR with 4.5 years of experience w...   smcnerlinpg   \n",
       "1188               Key Strengths and Core Competencies:   wjouhning58   \n",
       "1720  Global Leader, over 25 years of experience wit...  dwillartonk0   \n",
       "638                                      HOMES FOR LIFE      hbehanhq   \n",
       "1442  Performance driven senior executive with over ...      ishelpca   \n",
       "\n",
       "     first_name  last_name date_of_birth       phone  \\\n",
       "916     Suzanna   McNerlin    30/12/1983  1978591859   \n",
       "1188     Wandis   Jouhning    04/07/1965  4281287352   \n",
       "1720     Darbie  Willarton    26/10/1962  8235147790   \n",
       "638      Hester      Behan    12/12/1999  5048864768   \n",
       "1442    Inesita      Shelp    03/09/1973  5373499561   \n",
       "\n",
       "                 email_address  employee  employeer   latitude  longitude  \\\n",
       "916       smcnerlinpg@usgs.gov     False       True  32.066829  34.783039   \n",
       "1188  wjouhning58@virginia.edu      True      False  32.063670  34.778960   \n",
       "1720     dwillartonk0@ehow.com     False       True  32.052560  34.804630   \n",
       "638           hbehanhq@irs.gov     False       True  32.076217  34.771447   \n",
       "1442        ishelpca@google.cn      True      False  32.096090  34.792110   \n",
       "\n",
       "      id_work_area  \n",
       "916             10  \n",
       "1188            25  \n",
       "1720            10  \n",
       "638             14  \n",
       "1442             7  "
      ]
     },
     "execution_count": 57,
     "metadata": {},
     "output_type": "execute_result"
    }
   ],
   "source": [
    "result2.sample(5)"
   ]
  },
  {
   "cell_type": "code",
   "execution_count": 49,
   "metadata": {},
   "outputs": [
    {
     "data": {
      "text/plain": [
       "(2000, 14)"
      ]
     },
     "execution_count": 49,
     "metadata": {},
     "output_type": "execute_result"
    }
   ],
   "source": [
    "result2.shape"
   ]
  },
  {
   "cell_type": "code",
   "execution_count": 54,
   "metadata": {},
   "outputs": [],
   "source": [
    "result2.drop(['id_city','id_work_area'],axis=1, inplace=True)"
   ]
  },
  {
   "cell_type": "code",
   "execution_count": 55,
   "metadata": {},
   "outputs": [],
   "source": [
    "i = [i for i in range(26)]\n",
    "import random\n",
    "id_work_area = random.choices(i,k=2000)\n",
    "result2['id_work_area'] =id_work_area"
   ]
  },
  {
   "cell_type": "code",
   "execution_count": 51,
   "metadata": {},
   "outputs": [],
   "source": [
    "result2.to_csv(index=False, path_or_buf = '../data_base/csv/users.csv')"
   ]
  },
  {
   "cell_type": "code",
   "execution_count": 60,
   "metadata": {},
   "outputs": [
    {
     "data": {
      "text/plain": [
       "213"
      ]
     },
     "execution_count": 60,
     "metadata": {},
     "output_type": "execute_result"
    }
   ],
   "source": [
    "i = [i for i in range(213)]\n",
    "len(i)"
   ]
  },
  {
   "cell_type": "code",
   "execution_count": 61,
   "metadata": {},
   "outputs": [],
   "source": [
    "id_city = random.choices(i,k=2000)\n",
    "result2['id_city'] =id_city"
   ]
  },
  {
   "cell_type": "code",
   "execution_count": 62,
   "metadata": {
    "scrolled": true
   },
   "outputs": [
    {
     "data": {
      "text/html": [
       "<div>\n",
       "<style scoped>\n",
       "    .dataframe tbody tr th:only-of-type {\n",
       "        vertical-align: middle;\n",
       "    }\n",
       "\n",
       "    .dataframe tbody tr th {\n",
       "        vertical-align: top;\n",
       "    }\n",
       "\n",
       "    .dataframe thead th {\n",
       "        text-align: right;\n",
       "    }\n",
       "</style>\n",
       "<table border=\"1\" class=\"dataframe\">\n",
       "  <thead>\n",
       "    <tr style=\"text-align: right;\">\n",
       "      <th></th>\n",
       "      <th>profile_picture</th>\n",
       "      <th>description</th>\n",
       "      <th>user_name</th>\n",
       "      <th>first_name</th>\n",
       "      <th>last_name</th>\n",
       "      <th>date_of_birth</th>\n",
       "      <th>phone</th>\n",
       "      <th>email_address</th>\n",
       "      <th>employee</th>\n",
       "      <th>employeer</th>\n",
       "      <th>latitude</th>\n",
       "      <th>longitude</th>\n",
       "      <th>id_work_area</th>\n",
       "      <th>id_city</th>\n",
       "    </tr>\n",
       "  </thead>\n",
       "  <tbody>\n",
       "    <tr>\n",
       "      <th>381</th>\n",
       "      <td>data:image/gif;base64,R0lGODlhAQABAIAAAAAAAP//...</td>\n",
       "      <td>Motivational manager &amp; Personal Trainer who le...</td>\n",
       "      <td>bzanottial</td>\n",
       "      <td>Beverly</td>\n",
       "      <td>Zanotti</td>\n",
       "      <td>22/05/1977</td>\n",
       "      <td>5404406439</td>\n",
       "      <td>bzanottial@disqus.com</td>\n",
       "      <td>True</td>\n",
       "      <td>False</td>\n",
       "      <td>32.128010</td>\n",
       "      <td>34.830450</td>\n",
       "      <td>18</td>\n",
       "      <td>153</td>\n",
       "    </tr>\n",
       "    <tr>\n",
       "      <th>1020</th>\n",
       "      <td>data:image/gif;base64,R0lGODlhAQABAIAAAAAAAP//...</td>\n",
       "      <td>•\\tA qualified accounting professional and tax...</td>\n",
       "      <td>vyardyk</td>\n",
       "      <td>Vassily</td>\n",
       "      <td>Yardy</td>\n",
       "      <td>26/12/2001</td>\n",
       "      <td>8653410757</td>\n",
       "      <td>vyardyk@mit.edu</td>\n",
       "      <td>False</td>\n",
       "      <td>True</td>\n",
       "      <td>32.089773</td>\n",
       "      <td>34.790547</td>\n",
       "      <td>8</td>\n",
       "      <td>193</td>\n",
       "    </tr>\n",
       "    <tr>\n",
       "      <th>97</th>\n",
       "      <td>https://media-exp1.licdn.com/dms/image/C4E03AQ...</td>\n",
       "      <td>Accredited Diamond Jewellery Professional dedi...</td>\n",
       "      <td>aperkis2p</td>\n",
       "      <td>Alexine</td>\n",
       "      <td>Perkis</td>\n",
       "      <td>12/07/1983</td>\n",
       "      <td>1176357371</td>\n",
       "      <td>aperkis2p@ow.ly</td>\n",
       "      <td>True</td>\n",
       "      <td>False</td>\n",
       "      <td>32.143070</td>\n",
       "      <td>34.797270</td>\n",
       "      <td>17</td>\n",
       "      <td>144</td>\n",
       "    </tr>\n",
       "    <tr>\n",
       "      <th>1087</th>\n",
       "      <td>https://media-exp1.licdn.com/dms/image/C5603AQ...</td>\n",
       "      <td>As an Architect, I believe that design can mak...</td>\n",
       "      <td>fbreede2f</td>\n",
       "      <td>Fidel</td>\n",
       "      <td>Breede</td>\n",
       "      <td>25/09/1974</td>\n",
       "      <td>9558707522</td>\n",
       "      <td>fbreede2f@discovery.com</td>\n",
       "      <td>False</td>\n",
       "      <td>True</td>\n",
       "      <td>32.071247</td>\n",
       "      <td>34.779381</td>\n",
       "      <td>10</td>\n",
       "      <td>112</td>\n",
       "    </tr>\n",
       "    <tr>\n",
       "      <th>1460</th>\n",
       "      <td>https://media-exp1.licdn.com/dms/image/C4E03AQ...</td>\n",
       "      <td>AboutNational Training And Education...\\n     ...</td>\n",
       "      <td>tdoogoodcs</td>\n",
       "      <td>Torre</td>\n",
       "      <td>Doogood</td>\n",
       "      <td>11/01/1987</td>\n",
       "      <td>1367118759</td>\n",
       "      <td>tdoogoodcs@washington.edu</td>\n",
       "      <td>False</td>\n",
       "      <td>True</td>\n",
       "      <td>32.035070</td>\n",
       "      <td>34.750610</td>\n",
       "      <td>9</td>\n",
       "      <td>21</td>\n",
       "    </tr>\n",
       "  </tbody>\n",
       "</table>\n",
       "</div>"
      ],
      "text/plain": [
       "                                        profile_picture  \\\n",
       "381   data:image/gif;base64,R0lGODlhAQABAIAAAAAAAP//...   \n",
       "1020  data:image/gif;base64,R0lGODlhAQABAIAAAAAAAP//...   \n",
       "97    https://media-exp1.licdn.com/dms/image/C4E03AQ...   \n",
       "1087  https://media-exp1.licdn.com/dms/image/C5603AQ...   \n",
       "1460  https://media-exp1.licdn.com/dms/image/C4E03AQ...   \n",
       "\n",
       "                                            description   user_name  \\\n",
       "381   Motivational manager & Personal Trainer who le...  bzanottial   \n",
       "1020  •\\tA qualified accounting professional and tax...     vyardyk   \n",
       "97    Accredited Diamond Jewellery Professional dedi...   aperkis2p   \n",
       "1087  As an Architect, I believe that design can mak...   fbreede2f   \n",
       "1460  AboutNational Training And Education...\\n     ...  tdoogoodcs   \n",
       "\n",
       "     first_name last_name date_of_birth       phone  \\\n",
       "381     Beverly   Zanotti    22/05/1977  5404406439   \n",
       "1020    Vassily     Yardy    26/12/2001  8653410757   \n",
       "97      Alexine    Perkis    12/07/1983  1176357371   \n",
       "1087      Fidel    Breede    25/09/1974  9558707522   \n",
       "1460      Torre   Doogood    11/01/1987  1367118759   \n",
       "\n",
       "                  email_address  employee  employeer   latitude  longitude  \\\n",
       "381       bzanottial@disqus.com      True      False  32.128010  34.830450   \n",
       "1020            vyardyk@mit.edu     False       True  32.089773  34.790547   \n",
       "97              aperkis2p@ow.ly      True      False  32.143070  34.797270   \n",
       "1087    fbreede2f@discovery.com     False       True  32.071247  34.779381   \n",
       "1460  tdoogoodcs@washington.edu     False       True  32.035070  34.750610   \n",
       "\n",
       "      id_work_area  id_city  \n",
       "381             18      153  \n",
       "1020             8      193  \n",
       "97              17      144  \n",
       "1087            10      112  \n",
       "1460             9       21  "
      ]
     },
     "execution_count": 62,
     "metadata": {},
     "output_type": "execute_result"
    }
   ],
   "source": [
    "result2.sample(5)"
   ]
  },
  {
   "cell_type": "code",
   "execution_count": 63,
   "metadata": {},
   "outputs": [],
   "source": [
    "result2.to_csv(index=False, path_or_buf = '../data_base/csv/users.csv')"
   ]
  }
 ],
 "metadata": {
  "kernelspec": {
   "display_name": "Python 3",
   "language": "python",
   "name": "python3"
  },
  "language_info": {
   "codemirror_mode": {
    "name": "ipython",
    "version": 3
   },
   "file_extension": ".py",
   "mimetype": "text/x-python",
   "name": "python",
   "nbconvert_exporter": "python",
   "pygments_lexer": "ipython3",
   "version": "3.7.6"
  }
 },
 "nbformat": 4,
 "nbformat_minor": 4
}
