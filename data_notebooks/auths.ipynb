{
 "cells": [
  {
   "cell_type": "code",
   "execution_count": 1,
   "metadata": {},
   "outputs": [],
   "source": [
    "import pandas as pd"
   ]
  },
  {
   "cell_type": "code",
   "execution_count": 2,
   "metadata": {},
   "outputs": [],
   "source": [
    "df= pd.read_csv('../data_wedev/data_version_2/signup_data.csv')"
   ]
  },
  {
   "cell_type": "code",
   "execution_count": 3,
   "metadata": {},
   "outputs": [
    {
     "data": {
      "text/html": [
       "<div>\n",
       "<style scoped>\n",
       "    .dataframe tbody tr th:only-of-type {\n",
       "        vertical-align: middle;\n",
       "    }\n",
       "\n",
       "    .dataframe tbody tr th {\n",
       "        vertical-align: top;\n",
       "    }\n",
       "\n",
       "    .dataframe thead th {\n",
       "        text-align: right;\n",
       "    }\n",
       "</style>\n",
       "<table border=\"1\" class=\"dataframe\">\n",
       "  <thead>\n",
       "    <tr style=\"text-align: right;\">\n",
       "      <th></th>\n",
       "      <th>user_name</th>\n",
       "      <th>first_name</th>\n",
       "      <th>last_name</th>\n",
       "      <th>date_of_birth</th>\n",
       "      <th>nacionality</th>\n",
       "      <th>phone</th>\n",
       "      <th>email_address</th>\n",
       "      <th>password</th>\n",
       "      <th>employee</th>\n",
       "      <th>employeer</th>\n",
       "    </tr>\n",
       "  </thead>\n",
       "  <tbody>\n",
       "    <tr>\n",
       "      <th>1927</th>\n",
       "      <td>bfranssenipr</td>\n",
       "      <td>Benedicto</td>\n",
       "      <td>Fransseni</td>\n",
       "      <td>21/07/1965</td>\n",
       "      <td>Hmong</td>\n",
       "      <td>2667250338</td>\n",
       "      <td>bfranssenipr@auda.org.au</td>\n",
       "      <td>bAj4uwFw</td>\n",
       "      <td>False</td>\n",
       "      <td>True</td>\n",
       "    </tr>\n",
       "    <tr>\n",
       "      <th>400</th>\n",
       "      <td>cplaxtonb4</td>\n",
       "      <td>Cord</td>\n",
       "      <td>Plaxton</td>\n",
       "      <td>10/06/2000</td>\n",
       "      <td>Samoan</td>\n",
       "      <td>5875170607</td>\n",
       "      <td>cplaxtonb4@yolasite.com</td>\n",
       "      <td>2mBnouk</td>\n",
       "      <td>False</td>\n",
       "      <td>True</td>\n",
       "    </tr>\n",
       "    <tr>\n",
       "      <th>1214</th>\n",
       "      <td>pcripin5y</td>\n",
       "      <td>Padraig</td>\n",
       "      <td>Cripin</td>\n",
       "      <td>06/09/1997</td>\n",
       "      <td>Cherokee</td>\n",
       "      <td>7967163598</td>\n",
       "      <td>pcripin5y@omniture.com</td>\n",
       "      <td>JrFSNiAlXw</td>\n",
       "      <td>True</td>\n",
       "      <td>False</td>\n",
       "    </tr>\n",
       "    <tr>\n",
       "      <th>1645</th>\n",
       "      <td>mmealhamhx</td>\n",
       "      <td>Marys</td>\n",
       "      <td>Mealham</td>\n",
       "      <td>21/12/1970</td>\n",
       "      <td>Choctaw</td>\n",
       "      <td>6943873234</td>\n",
       "      <td>mmealhamhx@vistaprint.com</td>\n",
       "      <td>K7Q7spz</td>\n",
       "      <td>False</td>\n",
       "      <td>True</td>\n",
       "    </tr>\n",
       "    <tr>\n",
       "      <th>667</th>\n",
       "      <td>wcrosgroveij</td>\n",
       "      <td>Wenda</td>\n",
       "      <td>Crosgrove</td>\n",
       "      <td>11/11/1993</td>\n",
       "      <td>Lumbee</td>\n",
       "      <td>5552482831</td>\n",
       "      <td>wcrosgroveij@photobucket.com</td>\n",
       "      <td>YPrCRsGOLI</td>\n",
       "      <td>False</td>\n",
       "      <td>True</td>\n",
       "    </tr>\n",
       "  </tbody>\n",
       "</table>\n",
       "</div>"
      ],
      "text/plain": [
       "         user_name first_name  last_name date_of_birth nacionality  \\\n",
       "1927  bfranssenipr  Benedicto  Fransseni    21/07/1965       Hmong   \n",
       "400     cplaxtonb4       Cord    Plaxton    10/06/2000      Samoan   \n",
       "1214     pcripin5y    Padraig     Cripin    06/09/1997    Cherokee   \n",
       "1645    mmealhamhx      Marys    Mealham    21/12/1970     Choctaw   \n",
       "667   wcrosgroveij      Wenda  Crosgrove    11/11/1993      Lumbee   \n",
       "\n",
       "           phone                 email_address    password  employee  \\\n",
       "1927  2667250338      bfranssenipr@auda.org.au    bAj4uwFw     False   \n",
       "400   5875170607       cplaxtonb4@yolasite.com     2mBnouk     False   \n",
       "1214  7967163598        pcripin5y@omniture.com  JrFSNiAlXw      True   \n",
       "1645  6943873234     mmealhamhx@vistaprint.com     K7Q7spz     False   \n",
       "667   5552482831  wcrosgroveij@photobucket.com  YPrCRsGOLI     False   \n",
       "\n",
       "      employeer  \n",
       "1927       True  \n",
       "400        True  \n",
       "1214      False  \n",
       "1645       True  \n",
       "667        True  "
      ]
     },
     "execution_count": 3,
     "metadata": {},
     "output_type": "execute_result"
    }
   ],
   "source": [
    "df.sample(5)"
   ]
  },
  {
   "cell_type": "code",
   "execution_count": 4,
   "metadata": {},
   "outputs": [
    {
     "data": {
      "text/plain": [
       "(2000, 10)"
      ]
     },
     "execution_count": 4,
     "metadata": {},
     "output_type": "execute_result"
    }
   ],
   "source": [
    "df.shape"
   ]
  },
  {
   "cell_type": "code",
   "execution_count": 5,
   "metadata": {},
   "outputs": [],
   "source": [
    "df.drop(['first_name','last_name','nacionality','date_of_birth', 'phone', 'email_address', 'employee','employeer'], axis=1, inplace=True)"
   ]
  },
  {
   "cell_type": "code",
   "execution_count": 6,
   "metadata": {},
   "outputs": [
    {
     "data": {
      "text/plain": [
       "(2000, 2)"
      ]
     },
     "execution_count": 6,
     "metadata": {},
     "output_type": "execute_result"
    }
   ],
   "source": [
    "df.shape"
   ]
  },
  {
   "cell_type": "code",
   "execution_count": 7,
   "metadata": {},
   "outputs": [],
   "source": [
    "i = [i for i in range(2000)]\n",
    "i = pd.Series(i)\n",
    "df['id_user']=i"
   ]
  },
  {
   "cell_type": "code",
   "execution_count": 8,
   "metadata": {},
   "outputs": [
    {
     "data": {
      "text/plain": [
       "(2000, 3)"
      ]
     },
     "execution_count": 8,
     "metadata": {},
     "output_type": "execute_result"
    }
   ],
   "source": [
    "df.shape"
   ]
  },
  {
   "cell_type": "code",
   "execution_count": 9,
   "metadata": {},
   "outputs": [],
   "source": [
    "df.to_csv(index=False, path_or_buf = '../data_base/csv/auths.csv')"
   ]
  }
 ],
 "metadata": {
  "kernelspec": {
   "display_name": "Python 3",
   "language": "python",
   "name": "python3"
  },
  "language_info": {
   "codemirror_mode": {
    "name": "ipython",
    "version": 3
   },
   "file_extension": ".py",
   "mimetype": "text/x-python",
   "name": "python",
   "nbconvert_exporter": "python",
   "pygments_lexer": "ipython3",
   "version": "3.7.6"
  }
 },
 "nbformat": 4,
 "nbformat_minor": 4
}
