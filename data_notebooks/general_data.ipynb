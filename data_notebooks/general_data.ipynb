{
 "cells": [
  {
   "cell_type": "code",
   "execution_count": 1,
   "metadata": {},
   "outputs": [],
   "source": [
    "import pandas as pd"
   ]
  },
  {
   "cell_type": "code",
   "execution_count": 119,
   "metadata": {},
   "outputs": [],
   "source": [
    "df_general= pd.read_csv('../data_wedev/data_useful/linkedin.csv')"
   ]
  },
  {
   "cell_type": "code",
   "execution_count": 120,
   "metadata": {},
   "outputs": [
    {
     "data": {
      "text/html": [
       "<div>\n",
       "<style scoped>\n",
       "    .dataframe tbody tr th:only-of-type {\n",
       "        vertical-align: middle;\n",
       "    }\n",
       "\n",
       "    .dataframe tbody tr th {\n",
       "        vertical-align: top;\n",
       "    }\n",
       "\n",
       "    .dataframe thead th {\n",
       "        text-align: right;\n",
       "    }\n",
       "</style>\n",
       "<table border=\"1\" class=\"dataframe\">\n",
       "  <thead>\n",
       "    <tr style=\"text-align: right;\">\n",
       "      <th></th>\n",
       "      <th>index</th>\n",
       "      <th>category</th>\n",
       "      <th>linkedin</th>\n",
       "      <th>profile_picture</th>\n",
       "      <th>description</th>\n",
       "      <th>Experience</th>\n",
       "      <th>Name</th>\n",
       "      <th>position</th>\n",
       "      <th>location</th>\n",
       "      <th>skills</th>\n",
       "      <th>clean_skills</th>\n",
       "    </tr>\n",
       "  </thead>\n",
       "  <tbody>\n",
       "    <tr>\n",
       "      <th>925</th>\n",
       "      <td>1432</td>\n",
       "      <td>Finance</td>\n",
       "      <td>https://in.linkedin.com/in/narasimhareddyiv</td>\n",
       "      <td>https://media-exp1.licdn.com/dms/image/C4D03AQ...</td>\n",
       "      <td>NaN</td>\n",
       "      <td>Strategy and FinanceCompany NameMoEngage Inc.D...</td>\n",
       "      <td>Narasimha Reddy</td>\n",
       "      <td>Strategy and Finance @ MoEngage Inc</td>\n",
       "      <td>Bengaluru Area, India</td>\n",
       "      <td>['\\nFinancial Modeling\\n', '\\nValuation\\n', '\\...</td>\n",
       "      <td>['Financial Modeling', 'Valuation', 'Investmen...</td>\n",
       "    </tr>\n",
       "    <tr>\n",
       "      <th>213</th>\n",
       "      <td>214</td>\n",
       "      <td>Education</td>\n",
       "      <td>https://www.linkedin.com/in/fatihgozuacik</td>\n",
       "      <td>https://media-exp1.licdn.com/dms/image/C5103AQ...</td>\n",
       "      <td>E-portfolio:http://bit.ly/PBLalbums...\\n      ...</td>\n",
       "      <td>Director of Technology and EducationCompany Na...</td>\n",
       "      <td>Fatih Gozuacik, M.Ed, MS, MPhys</td>\n",
       "      <td>Director of Technology and Education at Metro ...</td>\n",
       "      <td>Morton, Pennsylvania</td>\n",
       "      <td>['\\nCurriculum Development\\n', '\\nClassroom\\n'...</td>\n",
       "      <td>['Curriculum Development', 'Classroom', 'Teach...</td>\n",
       "    </tr>\n",
       "    <tr>\n",
       "      <th>1216</th>\n",
       "      <td>1723</td>\n",
       "      <td>Aviation</td>\n",
       "      <td>https://in.linkedin.com/in/ankit-jaiswal-3018a067</td>\n",
       "      <td>data:image/gif;base64,R0lGODlhAQABAIAAAAAAAP//...</td>\n",
       "      <td>NaN</td>\n",
       "      <td>MANAGER OPERATIONS - AVIATIONCompany NameNIRMA...</td>\n",
       "      <td>Ankit Jaiswal</td>\n",
       "      <td>MANAGER OPERATIONS - AVIATION at NIRMA LTD.</td>\n",
       "      <td>Ahmedabad Area, India</td>\n",
       "      <td>['\\nOperations Management\\n', '\\nAirlines\\n', ...</td>\n",
       "      <td>['Operations Management', 'Airlines', 'Aviation']</td>\n",
       "    </tr>\n",
       "    <tr>\n",
       "      <th>138</th>\n",
       "      <td>139</td>\n",
       "      <td>Managment</td>\n",
       "      <td>https://in.linkedin.com/in/anshul-kulshrestha-...</td>\n",
       "      <td>data:image/gif;base64,R0lGODlhAQABAIAAAAAAAP//...</td>\n",
       "      <td>NaN</td>\n",
       "      <td>ACE COLLEGE OF ENGINEERING AND MANAGEMENT,ETMA...</td>\n",
       "      <td>Anshul Kulshrestha</td>\n",
       "      <td>Student at ACE COLLEGE OF ENGINEERING AND MANA...</td>\n",
       "      <td>Agra Area, India</td>\n",
       "      <td>[]</td>\n",
       "      <td>['']</td>\n",
       "    </tr>\n",
       "    <tr>\n",
       "      <th>662</th>\n",
       "      <td>1153</td>\n",
       "      <td>Building &amp; Construction</td>\n",
       "      <td>https://in.linkedin.com/in/babulal-kumawat-155...</td>\n",
       "      <td>https://media-exp1.licdn.com/dms/image/C5103AQ...</td>\n",
       "      <td>NaN</td>\n",
       "      <td>Building contractorCompany NameJalindra Buildi...</td>\n",
       "      <td>Babulal Kumawat</td>\n",
       "      <td>Building contractor at Jalindra Building const...</td>\n",
       "      <td>Sikar, Rajasthan, India</td>\n",
       "      <td>[]</td>\n",
       "      <td>['']</td>\n",
       "    </tr>\n",
       "  </tbody>\n",
       "</table>\n",
       "</div>"
      ],
      "text/plain": [
       "      index                 category  \\\n",
       "925    1432                  Finance   \n",
       "213     214                Education   \n",
       "1216   1723                 Aviation   \n",
       "138     139                Managment   \n",
       "662    1153  Building & Construction   \n",
       "\n",
       "                                               linkedin  \\\n",
       "925         https://in.linkedin.com/in/narasimhareddyiv   \n",
       "213           https://www.linkedin.com/in/fatihgozuacik   \n",
       "1216  https://in.linkedin.com/in/ankit-jaiswal-3018a067   \n",
       "138   https://in.linkedin.com/in/anshul-kulshrestha-...   \n",
       "662   https://in.linkedin.com/in/babulal-kumawat-155...   \n",
       "\n",
       "                                        profile_picture  \\\n",
       "925   https://media-exp1.licdn.com/dms/image/C4D03AQ...   \n",
       "213   https://media-exp1.licdn.com/dms/image/C5103AQ...   \n",
       "1216  data:image/gif;base64,R0lGODlhAQABAIAAAAAAAP//...   \n",
       "138   data:image/gif;base64,R0lGODlhAQABAIAAAAAAAP//...   \n",
       "662   https://media-exp1.licdn.com/dms/image/C5103AQ...   \n",
       "\n",
       "                                            description  \\\n",
       "925                                                 NaN   \n",
       "213   E-portfolio:http://bit.ly/PBLalbums...\\n      ...   \n",
       "1216                                                NaN   \n",
       "138                                                 NaN   \n",
       "662                                                 NaN   \n",
       "\n",
       "                                             Experience  \\\n",
       "925   Strategy and FinanceCompany NameMoEngage Inc.D...   \n",
       "213   Director of Technology and EducationCompany Na...   \n",
       "1216  MANAGER OPERATIONS - AVIATIONCompany NameNIRMA...   \n",
       "138   ACE COLLEGE OF ENGINEERING AND MANAGEMENT,ETMA...   \n",
       "662   Building contractorCompany NameJalindra Buildi...   \n",
       "\n",
       "                                 Name  \\\n",
       "925                   Narasimha Reddy   \n",
       "213   Fatih Gozuacik, M.Ed, MS, MPhys   \n",
       "1216                    Ankit Jaiswal   \n",
       "138                Anshul Kulshrestha   \n",
       "662                   Babulal Kumawat   \n",
       "\n",
       "                                               position  \\\n",
       "925                 Strategy and Finance @ MoEngage Inc   \n",
       "213   Director of Technology and Education at Metro ...   \n",
       "1216        MANAGER OPERATIONS - AVIATION at NIRMA LTD.   \n",
       "138   Student at ACE COLLEGE OF ENGINEERING AND MANA...   \n",
       "662   Building contractor at Jalindra Building const...   \n",
       "\n",
       "                     location  \\\n",
       "925     Bengaluru Area, India   \n",
       "213      Morton, Pennsylvania   \n",
       "1216    Ahmedabad Area, India   \n",
       "138          Agra Area, India   \n",
       "662   Sikar, Rajasthan, India   \n",
       "\n",
       "                                                 skills  \\\n",
       "925   ['\\nFinancial Modeling\\n', '\\nValuation\\n', '\\...   \n",
       "213   ['\\nCurriculum Development\\n', '\\nClassroom\\n'...   \n",
       "1216  ['\\nOperations Management\\n', '\\nAirlines\\n', ...   \n",
       "138                                                  []   \n",
       "662                                                  []   \n",
       "\n",
       "                                           clean_skills  \n",
       "925   ['Financial Modeling', 'Valuation', 'Investmen...  \n",
       "213   ['Curriculum Development', 'Classroom', 'Teach...  \n",
       "1216  ['Operations Management', 'Airlines', 'Aviation']  \n",
       "138                                                ['']  \n",
       "662                                                ['']  "
      ]
     },
     "execution_count": 120,
     "metadata": {},
     "output_type": "execute_result"
    }
   ],
   "source": [
    "df_general.sample(5)"
   ]
  },
  {
   "cell_type": "code",
   "execution_count": 121,
   "metadata": {},
   "outputs": [
    {
     "data": {
      "text/plain": [
       "index                0\n",
       "category             0\n",
       "linkedin             0\n",
       "profile_picture     12\n",
       "description        581\n",
       "Experience          25\n",
       "Name                12\n",
       "position            12\n",
       "location            12\n",
       "skills               0\n",
       "clean_skills         0\n",
       "dtype: int64"
      ]
     },
     "execution_count": 121,
     "metadata": {},
     "output_type": "execute_result"
    }
   ],
   "source": [
    "df_general.isnull().sum()"
   ]
  },
  {
   "cell_type": "code",
   "execution_count": 122,
   "metadata": {},
   "outputs": [
    {
     "data": {
      "text/plain": [
       "(1251, 11)"
      ]
     },
     "execution_count": 122,
     "metadata": {},
     "output_type": "execute_result"
    }
   ],
   "source": [
    "df_general.shape"
   ]
  },
  {
   "cell_type": "code",
   "execution_count": 123,
   "metadata": {},
   "outputs": [],
   "source": [
    "df_general['profile_picture'].fillna(method=\"ffill\", inplace= True)"
   ]
  },
  {
   "cell_type": "code",
   "execution_count": 124,
   "metadata": {},
   "outputs": [
    {
     "data": {
      "text/plain": [
       "index                0\n",
       "category             0\n",
       "linkedin             0\n",
       "profile_picture      0\n",
       "description        581\n",
       "Experience          25\n",
       "Name                12\n",
       "position            12\n",
       "location            12\n",
       "skills               0\n",
       "clean_skills         0\n",
       "dtype: int64"
      ]
     },
     "execution_count": 124,
     "metadata": {},
     "output_type": "execute_result"
    }
   ],
   "source": [
    "df_general.isnull().sum()"
   ]
  },
  {
   "cell_type": "code",
   "execution_count": 125,
   "metadata": {},
   "outputs": [],
   "source": [
    "df_general.drop(['index','linkedin','Name','skills'],axis=1, inplace=True)"
   ]
  },
  {
   "cell_type": "code",
   "execution_count": 126,
   "metadata": {},
   "outputs": [
    {
     "data": {
      "text/plain": [
       "category             0\n",
       "profile_picture      0\n",
       "description        581\n",
       "Experience          25\n",
       "position            12\n",
       "location            12\n",
       "clean_skills         0\n",
       "dtype: int64"
      ]
     },
     "execution_count": 126,
     "metadata": {},
     "output_type": "execute_result"
    }
   ],
   "source": [
    "df_general.isnull().sum()"
   ]
  },
  {
   "cell_type": "code",
   "execution_count": 127,
   "metadata": {},
   "outputs": [
    {
     "data": {
      "text/html": [
       "<div>\n",
       "<style scoped>\n",
       "    .dataframe tbody tr th:only-of-type {\n",
       "        vertical-align: middle;\n",
       "    }\n",
       "\n",
       "    .dataframe tbody tr th {\n",
       "        vertical-align: top;\n",
       "    }\n",
       "\n",
       "    .dataframe thead th {\n",
       "        text-align: right;\n",
       "    }\n",
       "</style>\n",
       "<table border=\"1\" class=\"dataframe\">\n",
       "  <thead>\n",
       "    <tr style=\"text-align: right;\">\n",
       "      <th></th>\n",
       "      <th>category</th>\n",
       "      <th>profile_picture</th>\n",
       "      <th>description</th>\n",
       "      <th>Experience</th>\n",
       "      <th>position</th>\n",
       "      <th>location</th>\n",
       "      <th>clean_skills</th>\n",
       "    </tr>\n",
       "  </thead>\n",
       "  <tbody>\n",
       "    <tr>\n",
       "      <th>1078</th>\n",
       "      <td>Architects</td>\n",
       "      <td>data:image/gif;base64,R0lGODlhAQABAIAAAAAAAP//...</td>\n",
       "      <td>We have multiple opportunities across Industry...</td>\n",
       "      <td>Senior RecruiterCompany NameBee5 Manpower Cons...</td>\n",
       "      <td>Senior Recruiter at Bee5 Manpower Consulting</td>\n",
       "      <td>New Delhi, Delhi, India</td>\n",
       "      <td>['Recruiting', 'Screening Resumes', 'Headhunti...</td>\n",
       "    </tr>\n",
       "    <tr>\n",
       "      <th>447</th>\n",
       "      <td>Agricultural</td>\n",
       "      <td>data:image/gif;base64,R0lGODlhAQABAIAAAAAAAP//...</td>\n",
       "      <td>NaN</td>\n",
       "      <td>FrutjelCompany NameHarritage Group</td>\n",
       "      <td>Frutjel at Harritage Group</td>\n",
       "      <td>Nagpur, Maharashtra, India</td>\n",
       "      <td>['']</td>\n",
       "    </tr>\n",
       "    <tr>\n",
       "      <th>154</th>\n",
       "      <td>Information Technology</td>\n",
       "      <td>https://media-exp1.licdn.com/dms/image/C5103AQ...</td>\n",
       "      <td>NaN</td>\n",
       "      <td>Web Content EditorCompany NameMinistry of Elec...</td>\n",
       "      <td>--</td>\n",
       "      <td>South Delhi, Delhi, India</td>\n",
       "      <td>['Content Development', 'Copy Editing', 'Commu...</td>\n",
       "    </tr>\n",
       "    <tr>\n",
       "      <th>1101</th>\n",
       "      <td>Public Relations</td>\n",
       "      <td>https://media-exp1.licdn.com/dms/image/C5103AQ...</td>\n",
       "      <td>Communication and Networking being her core st...</td>\n",
       "      <td>Company NameRoarrr Media &amp; Public RelationsTot...</td>\n",
       "      <td>Founder &amp; Director at Roarrr Media &amp; Public Re...</td>\n",
       "      <td>Mumbai, Maharashtra, India</td>\n",
       "      <td>['Corporate Communications', 'Market Research'...</td>\n",
       "    </tr>\n",
       "    <tr>\n",
       "      <th>331</th>\n",
       "      <td>Business Development</td>\n",
       "      <td>https://media-exp1.licdn.com/dms/image/C4D03AQ...</td>\n",
       "      <td>Swiss-French computer scientist with over a de...</td>\n",
       "      <td>Vice President, Corporate and Business Develop...</td>\n",
       "      <td>Head of Corporate and Business Development at ...</td>\n",
       "      <td>New York, New York</td>\n",
       "      <td>['Financial Modeling', 'Valuation', 'Corporate...</td>\n",
       "    </tr>\n",
       "  </tbody>\n",
       "</table>\n",
       "</div>"
      ],
      "text/plain": [
       "                    category  \\\n",
       "1078              Architects   \n",
       "447             Agricultural   \n",
       "154   Information Technology   \n",
       "1101        Public Relations   \n",
       "331     Business Development   \n",
       "\n",
       "                                        profile_picture  \\\n",
       "1078  data:image/gif;base64,R0lGODlhAQABAIAAAAAAAP//...   \n",
       "447   data:image/gif;base64,R0lGODlhAQABAIAAAAAAAP//...   \n",
       "154   https://media-exp1.licdn.com/dms/image/C5103AQ...   \n",
       "1101  https://media-exp1.licdn.com/dms/image/C5103AQ...   \n",
       "331   https://media-exp1.licdn.com/dms/image/C4D03AQ...   \n",
       "\n",
       "                                            description  \\\n",
       "1078  We have multiple opportunities across Industry...   \n",
       "447                                                 NaN   \n",
       "154                                                 NaN   \n",
       "1101  Communication and Networking being her core st...   \n",
       "331   Swiss-French computer scientist with over a de...   \n",
       "\n",
       "                                             Experience  \\\n",
       "1078  Senior RecruiterCompany NameBee5 Manpower Cons...   \n",
       "447                  FrutjelCompany NameHarritage Group   \n",
       "154   Web Content EditorCompany NameMinistry of Elec...   \n",
       "1101  Company NameRoarrr Media & Public RelationsTot...   \n",
       "331   Vice President, Corporate and Business Develop...   \n",
       "\n",
       "                                               position  \\\n",
       "1078       Senior Recruiter at Bee5 Manpower Consulting   \n",
       "447                          Frutjel at Harritage Group   \n",
       "154                                                  --   \n",
       "1101  Founder & Director at Roarrr Media & Public Re...   \n",
       "331   Head of Corporate and Business Development at ...   \n",
       "\n",
       "                        location  \\\n",
       "1078     New Delhi, Delhi, India   \n",
       "447   Nagpur, Maharashtra, India   \n",
       "154    South Delhi, Delhi, India   \n",
       "1101  Mumbai, Maharashtra, India   \n",
       "331           New York, New York   \n",
       "\n",
       "                                           clean_skills  \n",
       "1078  ['Recruiting', 'Screening Resumes', 'Headhunti...  \n",
       "447                                                ['']  \n",
       "154   ['Content Development', 'Copy Editing', 'Commu...  \n",
       "1101  ['Corporate Communications', 'Market Research'...  \n",
       "331   ['Financial Modeling', 'Valuation', 'Corporate...  "
      ]
     },
     "execution_count": 127,
     "metadata": {},
     "output_type": "execute_result"
    }
   ],
   "source": [
    "df_general.sample(5)"
   ]
  },
  {
   "cell_type": "code",
   "execution_count": 128,
   "metadata": {},
   "outputs": [],
   "source": [
    "df_general.drop(['Experience'],axis=1, inplace=True)"
   ]
  },
  {
   "cell_type": "code",
   "execution_count": 129,
   "metadata": {},
   "outputs": [],
   "source": [
    "df_general.fillna(method=\"bfill\", inplace = True)"
   ]
  },
  {
   "cell_type": "code",
   "execution_count": 130,
   "metadata": {},
   "outputs": [
    {
     "data": {
      "text/plain": [
       "category           0\n",
       "profile_picture    0\n",
       "description        0\n",
       "position           0\n",
       "location           0\n",
       "clean_skills       0\n",
       "dtype: int64"
      ]
     },
     "execution_count": 130,
     "metadata": {},
     "output_type": "execute_result"
    }
   ],
   "source": [
    "df_general.isnull().sum()"
   ]
  },
  {
   "cell_type": "code",
   "execution_count": 131,
   "metadata": {},
   "outputs": [
    {
     "data": {
      "text/html": [
       "<div>\n",
       "<style scoped>\n",
       "    .dataframe tbody tr th:only-of-type {\n",
       "        vertical-align: middle;\n",
       "    }\n",
       "\n",
       "    .dataframe tbody tr th {\n",
       "        vertical-align: top;\n",
       "    }\n",
       "\n",
       "    .dataframe thead th {\n",
       "        text-align: right;\n",
       "    }\n",
       "</style>\n",
       "<table border=\"1\" class=\"dataframe\">\n",
       "  <thead>\n",
       "    <tr style=\"text-align: right;\">\n",
       "      <th></th>\n",
       "      <th>category</th>\n",
       "      <th>profile_picture</th>\n",
       "      <th>description</th>\n",
       "      <th>position</th>\n",
       "      <th>location</th>\n",
       "      <th>clean_skills</th>\n",
       "    </tr>\n",
       "  </thead>\n",
       "  <tbody>\n",
       "    <tr>\n",
       "      <th>703</th>\n",
       "      <td>Automobile</td>\n",
       "      <td>data:image/gif;base64,R0lGODlhAQABAIAAAAAAAP//...</td>\n",
       "      <td>Experienced Chief General Manager with a demon...</td>\n",
       "      <td>Leadership role at Bharti Airtel Limited</td>\n",
       "      <td>Gurgaon, India</td>\n",
       "      <td>['']</td>\n",
       "    </tr>\n",
       "    <tr>\n",
       "      <th>1210</th>\n",
       "      <td>Aviation</td>\n",
       "      <td>https://media-exp1.licdn.com/dms/image/C5603AQ...</td>\n",
       "      <td>\" It's my game ,I play to win and I will\"</td>\n",
       "      <td>Entrepreneur</td>\n",
       "      <td>Bengaluru, Karnataka, India</td>\n",
       "      <td>['Entrepreneurship', 'Business Planning', 'Rea...</td>\n",
       "    </tr>\n",
       "    <tr>\n",
       "      <th>36</th>\n",
       "      <td>HR</td>\n",
       "      <td>data:image/gif;base64,R0lGODlhAQABAIAAAAAAAP//...</td>\n",
       "      <td>I have undertaken global business projects spa...</td>\n",
       "      <td>Vice President, Human Resources</td>\n",
       "      <td>Gurgaon, Haryana, India</td>\n",
       "      <td>['Personnel Management', 'Human Resources', 'T...</td>\n",
       "    </tr>\n",
       "    <tr>\n",
       "      <th>362</th>\n",
       "      <td>Health &amp; Fitness</td>\n",
       "      <td>https://media-exp1.licdn.com/dms/image/C5603AQ...</td>\n",
       "      <td>Qualified Personal Trainer and Running CoachMo...</td>\n",
       "      <td>Owner | DNPT Health &amp; Fitness</td>\n",
       "      <td>Melbourne, Australia</td>\n",
       "      <td>['']</td>\n",
       "    </tr>\n",
       "    <tr>\n",
       "      <th>950</th>\n",
       "      <td>Finance</td>\n",
       "      <td>data:image/gif;base64,R0lGODlhAQABAIAAAAAAAP//...</td>\n",
       "      <td>HAI I am Veeresh From Tirupur(DOLLAR CITY) we ...</td>\n",
       "      <td>Accounting and finance  at ANY Company</td>\n",
       "      <td>Chikkamagaluru, Karnataka, India</td>\n",
       "      <td>['']</td>\n",
       "    </tr>\n",
       "  </tbody>\n",
       "</table>\n",
       "</div>"
      ],
      "text/plain": [
       "              category                                    profile_picture  \\\n",
       "703         Automobile  data:image/gif;base64,R0lGODlhAQABAIAAAAAAAP//...   \n",
       "1210          Aviation  https://media-exp1.licdn.com/dms/image/C5603AQ...   \n",
       "36                  HR  data:image/gif;base64,R0lGODlhAQABAIAAAAAAAP//...   \n",
       "362   Health & Fitness  https://media-exp1.licdn.com/dms/image/C5603AQ...   \n",
       "950            Finance  data:image/gif;base64,R0lGODlhAQABAIAAAAAAAP//...   \n",
       "\n",
       "                                            description  \\\n",
       "703   Experienced Chief General Manager with a demon...   \n",
       "1210          \" It's my game ,I play to win and I will\"   \n",
       "36    I have undertaken global business projects spa...   \n",
       "362   Qualified Personal Trainer and Running CoachMo...   \n",
       "950   HAI I am Veeresh From Tirupur(DOLLAR CITY) we ...   \n",
       "\n",
       "                                      position  \\\n",
       "703   Leadership role at Bharti Airtel Limited   \n",
       "1210                              Entrepreneur   \n",
       "36             Vice President, Human Resources   \n",
       "362              Owner | DNPT Health & Fitness   \n",
       "950     Accounting and finance  at ANY Company   \n",
       "\n",
       "                              location  \\\n",
       "703                     Gurgaon, India   \n",
       "1210       Bengaluru, Karnataka, India   \n",
       "36             Gurgaon, Haryana, India   \n",
       "362               Melbourne, Australia   \n",
       "950   Chikkamagaluru, Karnataka, India   \n",
       "\n",
       "                                           clean_skills  \n",
       "703                                                ['']  \n",
       "1210  ['Entrepreneurship', 'Business Planning', 'Rea...  \n",
       "36    ['Personnel Management', 'Human Resources', 'T...  \n",
       "362                                                ['']  \n",
       "950                                                ['']  "
      ]
     },
     "execution_count": 131,
     "metadata": {},
     "output_type": "execute_result"
    }
   ],
   "source": [
    "df_general.sample(5)"
   ]
  },
  {
   "cell_type": "code",
   "execution_count": 108,
   "metadata": {},
   "outputs": [],
   "source": [
    "general_data= df_general"
   ]
  },
  {
   "cell_type": "code",
   "execution_count": 110,
   "metadata": {},
   "outputs": [],
   "source": [
    "general_data.drop(['location','position','clean_skills'], axis=1, inplace=True)"
   ]
  },
  {
   "cell_type": "code",
   "execution_count": 111,
   "metadata": {},
   "outputs": [
    {
     "data": {
      "text/html": [
       "<div>\n",
       "<style scoped>\n",
       "    .dataframe tbody tr th:only-of-type {\n",
       "        vertical-align: middle;\n",
       "    }\n",
       "\n",
       "    .dataframe tbody tr th {\n",
       "        vertical-align: top;\n",
       "    }\n",
       "\n",
       "    .dataframe thead th {\n",
       "        text-align: right;\n",
       "    }\n",
       "</style>\n",
       "<table border=\"1\" class=\"dataframe\">\n",
       "  <thead>\n",
       "    <tr style=\"text-align: right;\">\n",
       "      <th></th>\n",
       "      <th>category</th>\n",
       "      <th>profile_picture</th>\n",
       "      <th>description</th>\n",
       "    </tr>\n",
       "  </thead>\n",
       "  <tbody>\n",
       "    <tr>\n",
       "      <th>878</th>\n",
       "      <td>Food &amp; Beverages</td>\n",
       "      <td>https://media-exp1.licdn.com/dms/image/C4D03AQ...</td>\n",
       "      <td>hard &amp; smart worker</td>\n",
       "    </tr>\n",
       "    <tr>\n",
       "      <th>986</th>\n",
       "      <td>Apparel</td>\n",
       "      <td>data:image/gif;base64,R0lGODlhAQABAIAAAAAAAP//...</td>\n",
       "      <td>Immense knowledge in the field of Handloom fab...</td>\n",
       "    </tr>\n",
       "    <tr>\n",
       "      <th>882</th>\n",
       "      <td>Food &amp; Beverages</td>\n",
       "      <td>data:image/gif;base64,R0lGODlhAQABAIAAAAAAAP//...</td>\n",
       "      <td>I Shantanu Chakraborty working as a Director o...</td>\n",
       "    </tr>\n",
       "    <tr>\n",
       "      <th>317</th>\n",
       "      <td>Business Development</td>\n",
       "      <td>https://media-exp1.licdn.com/dms/image/C4E03AQ...</td>\n",
       "      <td>Call me on 01933 311980 or email me at: result...</td>\n",
       "    </tr>\n",
       "    <tr>\n",
       "      <th>29</th>\n",
       "      <td>HR</td>\n",
       "      <td>https://media-exp1.licdn.com/dms/image/C5603AQ...</td>\n",
       "      <td>I am a firm believer of human potential collec...</td>\n",
       "    </tr>\n",
       "  </tbody>\n",
       "</table>\n",
       "</div>"
      ],
      "text/plain": [
       "                 category                                    profile_picture  \\\n",
       "878      Food & Beverages  https://media-exp1.licdn.com/dms/image/C4D03AQ...   \n",
       "986               Apparel  data:image/gif;base64,R0lGODlhAQABAIAAAAAAAP//...   \n",
       "882      Food & Beverages  data:image/gif;base64,R0lGODlhAQABAIAAAAAAAP//...   \n",
       "317  Business Development  https://media-exp1.licdn.com/dms/image/C4E03AQ...   \n",
       "29                     HR  https://media-exp1.licdn.com/dms/image/C5603AQ...   \n",
       "\n",
       "                                           description  \n",
       "878                                hard & smart worker  \n",
       "986  Immense knowledge in the field of Handloom fab...  \n",
       "882  I Shantanu Chakraborty working as a Director o...  \n",
       "317  Call me on 01933 311980 or email me at: result...  \n",
       "29   I am a firm believer of human potential collec...  "
      ]
     },
     "execution_count": 111,
     "metadata": {},
     "output_type": "execute_result"
    }
   ],
   "source": [
    "general_data.sample(5)"
   ]
  },
  {
   "cell_type": "code",
   "execution_count": 112,
   "metadata": {},
   "outputs": [
    {
     "data": {
      "text/plain": [
       "(1251, 3)"
      ]
     },
     "execution_count": 112,
     "metadata": {},
     "output_type": "execute_result"
    }
   ],
   "source": [
    "general_data.shape"
   ]
  },
  {
   "cell_type": "code",
   "execution_count": 114,
   "metadata": {},
   "outputs": [
    {
     "data": {
      "text/html": [
       "<div>\n",
       "<style scoped>\n",
       "    .dataframe tbody tr th:only-of-type {\n",
       "        vertical-align: middle;\n",
       "    }\n",
       "\n",
       "    .dataframe tbody tr th {\n",
       "        vertical-align: top;\n",
       "    }\n",
       "\n",
       "    .dataframe thead th {\n",
       "        text-align: right;\n",
       "    }\n",
       "</style>\n",
       "<table border=\"1\" class=\"dataframe\">\n",
       "  <thead>\n",
       "    <tr style=\"text-align: right;\">\n",
       "      <th></th>\n",
       "      <th>category</th>\n",
       "      <th>profile_picture</th>\n",
       "      <th>description</th>\n",
       "    </tr>\n",
       "  </thead>\n",
       "  <tbody>\n",
       "    <tr>\n",
       "      <th>count</th>\n",
       "      <td>1251</td>\n",
       "      <td>1251</td>\n",
       "      <td>1251</td>\n",
       "    </tr>\n",
       "    <tr>\n",
       "      <th>unique</th>\n",
       "      <td>25</td>\n",
       "      <td>699</td>\n",
       "      <td>644</td>\n",
       "    </tr>\n",
       "    <tr>\n",
       "      <th>top</th>\n",
       "      <td>Advocate</td>\n",
       "      <td>data:image/gif;base64,R0lGODlhAQABAIAAAAAAAP//...</td>\n",
       "      <td>Airline professional</td>\n",
       "    </tr>\n",
       "    <tr>\n",
       "      <th>freq</th>\n",
       "      <td>53</td>\n",
       "      <td>525</td>\n",
       "      <td>13</td>\n",
       "    </tr>\n",
       "  </tbody>\n",
       "</table>\n",
       "</div>"
      ],
      "text/plain": [
       "        category                                    profile_picture  \\\n",
       "count       1251                                               1251   \n",
       "unique        25                                                699   \n",
       "top     Advocate  data:image/gif;base64,R0lGODlhAQABAIAAAAAAAP//...   \n",
       "freq          53                                                525   \n",
       "\n",
       "                 description  \n",
       "count                   1251  \n",
       "unique                   644  \n",
       "top     Airline professional  \n",
       "freq                      13  "
      ]
     },
     "execution_count": 114,
     "metadata": {},
     "output_type": "execute_result"
    }
   ],
   "source": [
    "general_data.describe(include='all')"
   ]
  },
  {
   "cell_type": "code",
   "execution_count": 115,
   "metadata": {},
   "outputs": [
    {
     "data": {
      "text/plain": [
       "array(['HR', 'Designing', 'Managment', 'Information Technology',\n",
       "       'Education', 'Advocate', 'Business Development',\n",
       "       'Health & Fitness', 'Agricultural', 'BPO', 'Sales', 'Consultant',\n",
       "       'Digital Media', 'Building & Construction', 'Automobile',\n",
       "       'Banking', 'Engineering', 'Food & Beverages', 'Finance', 'Apparel',\n",
       "       'Accountant', 'Architects', 'Public Relations', 'Arts', 'Aviation'],\n",
       "      dtype=object)"
      ]
     },
     "execution_count": 115,
     "metadata": {},
     "output_type": "execute_result"
    }
   ],
   "source": [
    "general_data['category'].unique()"
   ]
  },
  {
   "cell_type": "code",
   "execution_count": 137,
   "metadata": {},
   "outputs": [],
   "source": [
    "df_loc= pd.read_csv('../data_wedev/data_useful/loc.csv')"
   ]
  },
  {
   "cell_type": "code",
   "execution_count": 138,
   "metadata": {},
   "outputs": [],
   "source": [
    "df_loc2= pd.read_csv('../data_wedev/data_useful/loc2.csv')"
   ]
  },
  {
   "cell_type": "code",
   "execution_count": 139,
   "metadata": {},
   "outputs": [],
   "source": [
    "df_loc1=pd.concat([df_loc, df_loc2])"
   ]
  },
  {
   "cell_type": "code",
   "execution_count": 146,
   "metadata": {},
   "outputs": [
    {
     "data": {
      "text/html": [
       "<div>\n",
       "<style scoped>\n",
       "    .dataframe tbody tr th:only-of-type {\n",
       "        vertical-align: middle;\n",
       "    }\n",
       "\n",
       "    .dataframe tbody tr th {\n",
       "        vertical-align: top;\n",
       "    }\n",
       "\n",
       "    .dataframe thead th {\n",
       "        text-align: right;\n",
       "    }\n",
       "</style>\n",
       "<table border=\"1\" class=\"dataframe\">\n",
       "  <thead>\n",
       "    <tr style=\"text-align: right;\">\n",
       "      <th></th>\n",
       "      <th>country</th>\n",
       "      <th>state</th>\n",
       "      <th>ciry</th>\n",
       "    </tr>\n",
       "  </thead>\n",
       "  <tbody>\n",
       "    <tr>\n",
       "      <th>175</th>\n",
       "      <td>Indonesia</td>\n",
       "      <td>NaN</td>\n",
       "      <td>Balekersukamaju</td>\n",
       "    </tr>\n",
       "    <tr>\n",
       "      <th>306</th>\n",
       "      <td>Philippines</td>\n",
       "      <td>NaN</td>\n",
       "      <td>Malamig</td>\n",
       "    </tr>\n",
       "    <tr>\n",
       "      <th>906</th>\n",
       "      <td>Portugal</td>\n",
       "      <td>Viseu</td>\n",
       "      <td>Ervedosa do Douro</td>\n",
       "    </tr>\n",
       "    <tr>\n",
       "      <th>817</th>\n",
       "      <td>Poland</td>\n",
       "      <td>NaN</td>\n",
       "      <td>Wola Filipowska</td>\n",
       "    </tr>\n",
       "    <tr>\n",
       "      <th>257</th>\n",
       "      <td>China</td>\n",
       "      <td>NaN</td>\n",
       "      <td>Yacheng</td>\n",
       "    </tr>\n",
       "  </tbody>\n",
       "</table>\n",
       "</div>"
      ],
      "text/plain": [
       "         country  state               ciry\n",
       "175    Indonesia    NaN    Balekersukamaju\n",
       "306  Philippines    NaN            Malamig\n",
       "906     Portugal  Viseu  Ervedosa do Douro\n",
       "817       Poland    NaN    Wola Filipowska\n",
       "257        China    NaN            Yacheng"
      ]
     },
     "execution_count": 146,
     "metadata": {},
     "output_type": "execute_result"
    }
   ],
   "source": [
    "df_loc1.sample(5)"
   ]
  },
  {
   "cell_type": "code",
   "execution_count": 143,
   "metadata": {},
   "outputs": [
    {
     "data": {
      "text/plain": [
       "country       0\n",
       "state      1020\n",
       "ciry          0\n",
       "dtype: int64"
      ]
     },
     "execution_count": 143,
     "metadata": {},
     "output_type": "execute_result"
    }
   ],
   "source": [
    "df_loc1.isnull().sum()"
   ]
  },
  {
   "cell_type": "code",
   "execution_count": 166,
   "metadata": {},
   "outputs": [
    {
     "data": {
      "text/html": [
       "<div>\n",
       "<style scoped>\n",
       "    .dataframe tbody tr th:only-of-type {\n",
       "        vertical-align: middle;\n",
       "    }\n",
       "\n",
       "    .dataframe tbody tr th {\n",
       "        vertical-align: top;\n",
       "    }\n",
       "\n",
       "    .dataframe thead th {\n",
       "        text-align: right;\n",
       "    }\n",
       "</style>\n",
       "<table border=\"1\" class=\"dataframe\">\n",
       "  <thead>\n",
       "    <tr style=\"text-align: right;\">\n",
       "      <th></th>\n",
       "      <th>category</th>\n",
       "      <th>profile_picture</th>\n",
       "      <th>description</th>\n",
       "    </tr>\n",
       "  </thead>\n",
       "  <tbody>\n",
       "    <tr>\n",
       "      <th>535</th>\n",
       "      <td>Sales</td>\n",
       "      <td>data:image/gif;base64,R0lGODlhAQABAIAAAAAAAP//...</td>\n",
       "      <td>Set-up Online as a P&amp;L across several companie...</td>\n",
       "    </tr>\n",
       "    <tr>\n",
       "      <th>1242</th>\n",
       "      <td>Aviation</td>\n",
       "      <td>https://media-exp1.licdn.com/dms/image/C4E03AQ...</td>\n",
       "      <td>Aero-Business Professional |Independent Consul...</td>\n",
       "    </tr>\n",
       "    <tr>\n",
       "      <th>787</th>\n",
       "      <td>Engineering</td>\n",
       "      <td>https://media-exp1.licdn.com/dms/image/C4E03AQ...</td>\n",
       "      <td>Promoting basic research in Science and Engine...</td>\n",
       "    </tr>\n",
       "    <tr>\n",
       "      <th>1120</th>\n",
       "      <td>Public Relations</td>\n",
       "      <td>https://media-exp1.licdn.com/dms/image/C4E03AQ...</td>\n",
       "      <td>Ronn Torossian is the founder and CEO of 5W Pu...</td>\n",
       "    </tr>\n",
       "    <tr>\n",
       "      <th>903</th>\n",
       "      <td>Finance</td>\n",
       "      <td>data:image/gif;base64,R0lGODlhAQABAIAAAAAAAP//...</td>\n",
       "      <td>Experienced Assistant Manager with a demonstra...</td>\n",
       "    </tr>\n",
       "  </tbody>\n",
       "</table>\n",
       "</div>"
      ],
      "text/plain": [
       "              category                                    profile_picture  \\\n",
       "535              Sales  data:image/gif;base64,R0lGODlhAQABAIAAAAAAAP//...   \n",
       "1242          Aviation  https://media-exp1.licdn.com/dms/image/C4E03AQ...   \n",
       "787        Engineering  https://media-exp1.licdn.com/dms/image/C4E03AQ...   \n",
       "1120  Public Relations  https://media-exp1.licdn.com/dms/image/C4E03AQ...   \n",
       "903            Finance  data:image/gif;base64,R0lGODlhAQABAIAAAAAAAP//...   \n",
       "\n",
       "                                            description  \n",
       "535   Set-up Online as a P&L across several companie...  \n",
       "1242  Aero-Business Professional |Independent Consul...  \n",
       "787   Promoting basic research in Science and Engine...  \n",
       "1120  Ronn Torossian is the founder and CEO of 5W Pu...  \n",
       "903   Experienced Assistant Manager with a demonstra...  "
      ]
     },
     "execution_count": 166,
     "metadata": {},
     "output_type": "execute_result"
    }
   ],
   "source": [
    "general_data.sample(5)"
   ]
  },
  {
   "cell_type": "code",
   "execution_count": 168,
   "metadata": {},
   "outputs": [],
   "source": [
    "general_data.to_csv(index=False, path_or_buf = '../data_wedev/general_data.csv')"
   ]
  },
  {
   "cell_type": "code",
   "execution_count": 167,
   "metadata": {},
   "outputs": [
    {
     "data": {
      "text/plain": [
       "(1251, 3)"
      ]
     },
     "execution_count": 167,
     "metadata": {},
     "output_type": "execute_result"
    }
   ],
   "source": [
    "general_data.shape\n"
   ]
  },
  {
   "cell_type": "code",
   "execution_count": 154,
   "metadata": {},
   "outputs": [
    {
     "data": {
      "text/plain": [
       "(1251, 3)"
      ]
     },
     "execution_count": 154,
     "metadata": {},
     "output_type": "execute_result"
    }
   ],
   "source": [
    "df_loc1.shape"
   ]
  },
  {
   "cell_type": "code",
   "execution_count": 165,
   "metadata": {},
   "outputs": [
    {
     "ename": "ValueError",
     "evalue": "Shape of passed values is (1502, 6), indices imply (1251, 6)",
     "output_type": "error",
     "traceback": [
      "\u001b[1;31m---------------------------------------------------------------------------\u001b[0m",
      "\u001b[1;31mValueError\u001b[0m                                Traceback (most recent call last)",
      "\u001b[1;32m<ipython-input-165-d51e29648af0>\u001b[0m in \u001b[0;36m<module>\u001b[1;34m\u001b[0m\n\u001b[1;32m----> 1\u001b[1;33m \u001b[0mgeneral_data2\u001b[0m\u001b[1;33m=\u001b[0m\u001b[0mpd\u001b[0m\u001b[1;33m.\u001b[0m\u001b[0mconcat\u001b[0m\u001b[1;33m(\u001b[0m\u001b[1;33m[\u001b[0m\u001b[0mgeneral_data\u001b[0m\u001b[1;33m,\u001b[0m \u001b[0mdf_loc1\u001b[0m\u001b[1;33m]\u001b[0m\u001b[1;33m,\u001b[0m\u001b[0maxis\u001b[0m\u001b[1;33m=\u001b[0m\u001b[1;36m1\u001b[0m\u001b[1;33m)\u001b[0m\u001b[1;33m\u001b[0m\u001b[1;33m\u001b[0m\u001b[0m\n\u001b[0m",
      "\u001b[1;32mC:\\ProgramData\\Anaconda3\\lib\\site-packages\\pandas\\core\\reshape\\concat.py\u001b[0m in \u001b[0;36mconcat\u001b[1;34m(objs, axis, join, ignore_index, keys, levels, names, verify_integrity, sort, copy)\u001b[0m\n\u001b[0;32m    282\u001b[0m     )\n\u001b[0;32m    283\u001b[0m \u001b[1;33m\u001b[0m\u001b[0m\n\u001b[1;32m--> 284\u001b[1;33m     \u001b[1;32mreturn\u001b[0m \u001b[0mop\u001b[0m\u001b[1;33m.\u001b[0m\u001b[0mget_result\u001b[0m\u001b[1;33m(\u001b[0m\u001b[1;33m)\u001b[0m\u001b[1;33m\u001b[0m\u001b[1;33m\u001b[0m\u001b[0m\n\u001b[0m\u001b[0;32m    285\u001b[0m \u001b[1;33m\u001b[0m\u001b[0m\n\u001b[0;32m    286\u001b[0m \u001b[1;33m\u001b[0m\u001b[0m\n",
      "\u001b[1;32mC:\\ProgramData\\Anaconda3\\lib\\site-packages\\pandas\\core\\reshape\\concat.py\u001b[0m in \u001b[0;36mget_result\u001b[1;34m(self)\u001b[0m\n\u001b[0;32m    495\u001b[0m \u001b[1;33m\u001b[0m\u001b[0m\n\u001b[0;32m    496\u001b[0m             new_data = concatenate_block_managers(\n\u001b[1;32m--> 497\u001b[1;33m                 \u001b[0mmgrs_indexers\u001b[0m\u001b[1;33m,\u001b[0m \u001b[0mself\u001b[0m\u001b[1;33m.\u001b[0m\u001b[0mnew_axes\u001b[0m\u001b[1;33m,\u001b[0m \u001b[0mconcat_axis\u001b[0m\u001b[1;33m=\u001b[0m\u001b[0mself\u001b[0m\u001b[1;33m.\u001b[0m\u001b[0maxis\u001b[0m\u001b[1;33m,\u001b[0m \u001b[0mcopy\u001b[0m\u001b[1;33m=\u001b[0m\u001b[0mself\u001b[0m\u001b[1;33m.\u001b[0m\u001b[0mcopy\u001b[0m\u001b[1;33m\u001b[0m\u001b[1;33m\u001b[0m\u001b[0m\n\u001b[0m\u001b[0;32m    498\u001b[0m             )\n\u001b[0;32m    499\u001b[0m             \u001b[1;32mif\u001b[0m \u001b[1;32mnot\u001b[0m \u001b[0mself\u001b[0m\u001b[1;33m.\u001b[0m\u001b[0mcopy\u001b[0m\u001b[1;33m:\u001b[0m\u001b[1;33m\u001b[0m\u001b[1;33m\u001b[0m\u001b[0m\n",
      "\u001b[1;32mC:\\ProgramData\\Anaconda3\\lib\\site-packages\\pandas\\core\\internals\\managers.py\u001b[0m in \u001b[0;36mconcatenate_block_managers\u001b[1;34m(mgrs_indexers, axes, concat_axis, copy)\u001b[0m\n\u001b[0;32m   2025\u001b[0m         \u001b[0mblocks\u001b[0m\u001b[1;33m.\u001b[0m\u001b[0mappend\u001b[0m\u001b[1;33m(\u001b[0m\u001b[0mb\u001b[0m\u001b[1;33m)\u001b[0m\u001b[1;33m\u001b[0m\u001b[1;33m\u001b[0m\u001b[0m\n\u001b[0;32m   2026\u001b[0m \u001b[1;33m\u001b[0m\u001b[0m\n\u001b[1;32m-> 2027\u001b[1;33m     \u001b[1;32mreturn\u001b[0m \u001b[0mBlockManager\u001b[0m\u001b[1;33m(\u001b[0m\u001b[0mblocks\u001b[0m\u001b[1;33m,\u001b[0m \u001b[0maxes\u001b[0m\u001b[1;33m)\u001b[0m\u001b[1;33m\u001b[0m\u001b[1;33m\u001b[0m\u001b[0m\n\u001b[0m",
      "\u001b[1;32mC:\\ProgramData\\Anaconda3\\lib\\site-packages\\pandas\\core\\internals\\managers.py\u001b[0m in \u001b[0;36m__init__\u001b[1;34m(self, blocks, axes, do_integrity_check)\u001b[0m\n\u001b[0;32m    137\u001b[0m \u001b[1;33m\u001b[0m\u001b[0m\n\u001b[0;32m    138\u001b[0m         \u001b[1;32mif\u001b[0m \u001b[0mdo_integrity_check\u001b[0m\u001b[1;33m:\u001b[0m\u001b[1;33m\u001b[0m\u001b[1;33m\u001b[0m\u001b[0m\n\u001b[1;32m--> 139\u001b[1;33m             \u001b[0mself\u001b[0m\u001b[1;33m.\u001b[0m\u001b[0m_verify_integrity\u001b[0m\u001b[1;33m(\u001b[0m\u001b[1;33m)\u001b[0m\u001b[1;33m\u001b[0m\u001b[1;33m\u001b[0m\u001b[0m\n\u001b[0m\u001b[0;32m    140\u001b[0m \u001b[1;33m\u001b[0m\u001b[0m\n\u001b[0;32m    141\u001b[0m         \u001b[0mself\u001b[0m\u001b[1;33m.\u001b[0m\u001b[0m_consolidate_check\u001b[0m\u001b[1;33m(\u001b[0m\u001b[1;33m)\u001b[0m\u001b[1;33m\u001b[0m\u001b[1;33m\u001b[0m\u001b[0m\n",
      "\u001b[1;32mC:\\ProgramData\\Anaconda3\\lib\\site-packages\\pandas\\core\\internals\\managers.py\u001b[0m in \u001b[0;36m_verify_integrity\u001b[1;34m(self)\u001b[0m\n\u001b[0;32m    332\u001b[0m         \u001b[1;32mfor\u001b[0m \u001b[0mblock\u001b[0m \u001b[1;32min\u001b[0m \u001b[0mself\u001b[0m\u001b[1;33m.\u001b[0m\u001b[0mblocks\u001b[0m\u001b[1;33m:\u001b[0m\u001b[1;33m\u001b[0m\u001b[1;33m\u001b[0m\u001b[0m\n\u001b[0;32m    333\u001b[0m             \u001b[1;32mif\u001b[0m \u001b[0mblock\u001b[0m\u001b[1;33m.\u001b[0m\u001b[0m_verify_integrity\u001b[0m \u001b[1;32mand\u001b[0m \u001b[0mblock\u001b[0m\u001b[1;33m.\u001b[0m\u001b[0mshape\u001b[0m\u001b[1;33m[\u001b[0m\u001b[1;36m1\u001b[0m\u001b[1;33m:\u001b[0m\u001b[1;33m]\u001b[0m \u001b[1;33m!=\u001b[0m \u001b[0mmgr_shape\u001b[0m\u001b[1;33m[\u001b[0m\u001b[1;36m1\u001b[0m\u001b[1;33m:\u001b[0m\u001b[1;33m]\u001b[0m\u001b[1;33m:\u001b[0m\u001b[1;33m\u001b[0m\u001b[1;33m\u001b[0m\u001b[0m\n\u001b[1;32m--> 334\u001b[1;33m                 \u001b[0mconstruction_error\u001b[0m\u001b[1;33m(\u001b[0m\u001b[0mtot_items\u001b[0m\u001b[1;33m,\u001b[0m \u001b[0mblock\u001b[0m\u001b[1;33m.\u001b[0m\u001b[0mshape\u001b[0m\u001b[1;33m[\u001b[0m\u001b[1;36m1\u001b[0m\u001b[1;33m:\u001b[0m\u001b[1;33m]\u001b[0m\u001b[1;33m,\u001b[0m \u001b[0mself\u001b[0m\u001b[1;33m.\u001b[0m\u001b[0maxes\u001b[0m\u001b[1;33m)\u001b[0m\u001b[1;33m\u001b[0m\u001b[1;33m\u001b[0m\u001b[0m\n\u001b[0m\u001b[0;32m    335\u001b[0m         \u001b[1;32mif\u001b[0m \u001b[0mlen\u001b[0m\u001b[1;33m(\u001b[0m\u001b[0mself\u001b[0m\u001b[1;33m.\u001b[0m\u001b[0mitems\u001b[0m\u001b[1;33m)\u001b[0m \u001b[1;33m!=\u001b[0m \u001b[0mtot_items\u001b[0m\u001b[1;33m:\u001b[0m\u001b[1;33m\u001b[0m\u001b[1;33m\u001b[0m\u001b[0m\n\u001b[0;32m    336\u001b[0m             raise AssertionError(\n",
      "\u001b[1;32mC:\\ProgramData\\Anaconda3\\lib\\site-packages\\pandas\\core\\internals\\managers.py\u001b[0m in \u001b[0;36mconstruction_error\u001b[1;34m(tot_items, block_shape, axes, e)\u001b[0m\n\u001b[0;32m   1692\u001b[0m     \u001b[1;32mif\u001b[0m \u001b[0mblock_shape\u001b[0m\u001b[1;33m[\u001b[0m\u001b[1;36m0\u001b[0m\u001b[1;33m]\u001b[0m \u001b[1;33m==\u001b[0m \u001b[1;36m0\u001b[0m\u001b[1;33m:\u001b[0m\u001b[1;33m\u001b[0m\u001b[1;33m\u001b[0m\u001b[0m\n\u001b[0;32m   1693\u001b[0m         \u001b[1;32mraise\u001b[0m \u001b[0mValueError\u001b[0m\u001b[1;33m(\u001b[0m\u001b[1;34m\"Empty data passed with indices specified.\"\u001b[0m\u001b[1;33m)\u001b[0m\u001b[1;33m\u001b[0m\u001b[1;33m\u001b[0m\u001b[0m\n\u001b[1;32m-> 1694\u001b[1;33m     \u001b[1;32mraise\u001b[0m \u001b[0mValueError\u001b[0m\u001b[1;33m(\u001b[0m\u001b[1;34mf\"Shape of passed values is {passed}, indices imply {implied}\"\u001b[0m\u001b[1;33m)\u001b[0m\u001b[1;33m\u001b[0m\u001b[1;33m\u001b[0m\u001b[0m\n\u001b[0m\u001b[0;32m   1695\u001b[0m \u001b[1;33m\u001b[0m\u001b[0m\n\u001b[0;32m   1696\u001b[0m \u001b[1;33m\u001b[0m\u001b[0m\n",
      "\u001b[1;31mValueError\u001b[0m: Shape of passed values is (1502, 6), indices imply (1251, 6)"
     ]
    }
   ],
   "source": []
  }
 ],
 "metadata": {
  "kernelspec": {
   "display_name": "Python 3",
   "language": "python",
   "name": "python3"
  },
  "language_info": {
   "codemirror_mode": {
    "name": "ipython",
    "version": 3
   },
   "file_extension": ".py",
   "mimetype": "text/x-python",
   "name": "python",
   "nbconvert_exporter": "python",
   "pygments_lexer": "ipython3",
   "version": "3.7.6"
  }
 },
 "nbformat": 4,
 "nbformat_minor": 4
}
