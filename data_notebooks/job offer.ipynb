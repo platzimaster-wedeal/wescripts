{
 "cells": [
  {
   "cell_type": "code",
   "execution_count": 1,
   "metadata": {},
   "outputs": [],
   "source": [
    "import pandas as pd"
   ]
  },
  {
   "cell_type": "code",
   "execution_count": 2,
   "metadata": {},
   "outputs": [],
   "source": [
    "df= pd.read_csv('../data_wedev/data_version_2/job_offer.csv')"
   ]
  },
  {
   "cell_type": "code",
   "execution_count": 4,
   "metadata": {},
   "outputs": [
    {
     "data": {
      "text/html": [
       "<div>\n",
       "<style scoped>\n",
       "    .dataframe tbody tr th:only-of-type {\n",
       "        vertical-align: middle;\n",
       "    }\n",
       "\n",
       "    .dataframe tbody tr th {\n",
       "        vertical-align: top;\n",
       "    }\n",
       "\n",
       "    .dataframe thead th {\n",
       "        text-align: right;\n",
       "    }\n",
       "</style>\n",
       "<table border=\"1\" class=\"dataframe\">\n",
       "  <thead>\n",
       "    <tr style=\"text-align: right;\">\n",
       "      <th></th>\n",
       "      <th>category</th>\n",
       "      <th>title</th>\n",
       "      <th>requariments</th>\n",
       "      <th>schedule</th>\n",
       "      <th>payment_max</th>\n",
       "      <th>payment_min</th>\n",
       "      <th>modality</th>\n",
       "    </tr>\n",
       "  </thead>\n",
       "  <tbody>\n",
       "    <tr>\n",
       "      <th>417</th>\n",
       "      <td>Agricultural</td>\n",
       "      <td>Farmer and Agricultural &amp; Equestrian Contracto...</td>\n",
       "      <td>['agriculture', 'Equestrian', 'Groundworks', '...</td>\n",
       "      <td>1/10/2021</td>\n",
       "      <td>$15.91</td>\n",
       "      <td>$59.77</td>\n",
       "      <td>A_distancia</td>\n",
       "    </tr>\n",
       "    <tr>\n",
       "      <th>1121</th>\n",
       "      <td>Public Relations</td>\n",
       "      <td>Director of Public RelationsCompany NameElemen...</td>\n",
       "      <td>['Public Relations', 'Marketing Communications...</td>\n",
       "      <td>3/11/2021</td>\n",
       "      <td>$1.74</td>\n",
       "      <td>$96.84</td>\n",
       "      <td>A_distancia</td>\n",
       "    </tr>\n",
       "    <tr>\n",
       "      <th>72</th>\n",
       "      <td>Designing</td>\n",
       "      <td>architecteCompany NameEDO ARCHITECUTRE AND DES...</td>\n",
       "      <td>['Architectural Design', 'Graphic Design', 'Pr...</td>\n",
       "      <td>10/7/2020</td>\n",
       "      <td>$32.61</td>\n",
       "      <td>$52.15</td>\n",
       "      <td>A_distancia</td>\n",
       "    </tr>\n",
       "    <tr>\n",
       "      <th>1020</th>\n",
       "      <td>Accountant</td>\n",
       "      <td>Senior AccountantCompany NameABC Tax and Accou...</td>\n",
       "      <td>['Account Reconciliation', 'Accounting', 'Audi...</td>\n",
       "      <td>2/23/2021</td>\n",
       "      <td>$7.80</td>\n",
       "      <td>$92.24</td>\n",
       "      <td>Precencial</td>\n",
       "    </tr>\n",
       "    <tr>\n",
       "      <th>125</th>\n",
       "      <td>Managment</td>\n",
       "      <td>ManagerCompany NameMulticultural Marketing and...</td>\n",
       "      <td>['Public Relations', 'Social Media', 'Social M...</td>\n",
       "      <td>11/16/2020</td>\n",
       "      <td>$18.00</td>\n",
       "      <td>$63.35</td>\n",
       "      <td>A_distancia</td>\n",
       "    </tr>\n",
       "  </tbody>\n",
       "</table>\n",
       "</div>"
      ],
      "text/plain": [
       "              category                                              title  \\\n",
       "417       Agricultural  Farmer and Agricultural & Equestrian Contracto...   \n",
       "1121  Public Relations  Director of Public RelationsCompany NameElemen...   \n",
       "72           Designing  architecteCompany NameEDO ARCHITECUTRE AND DES...   \n",
       "1020        Accountant  Senior AccountantCompany NameABC Tax and Accou...   \n",
       "125          Managment  ManagerCompany NameMulticultural Marketing and...   \n",
       "\n",
       "                                           requariments    schedule  \\\n",
       "417   ['agriculture', 'Equestrian', 'Groundworks', '...   1/10/2021   \n",
       "1121  ['Public Relations', 'Marketing Communications...   3/11/2021   \n",
       "72    ['Architectural Design', 'Graphic Design', 'Pr...   10/7/2020   \n",
       "1020  ['Account Reconciliation', 'Accounting', 'Audi...   2/23/2021   \n",
       "125   ['Public Relations', 'Social Media', 'Social M...  11/16/2020   \n",
       "\n",
       "     payment_max payment_min     modality  \n",
       "417       $15.91      $59.77  A_distancia  \n",
       "1121       $1.74      $96.84  A_distancia  \n",
       "72        $32.61      $52.15  A_distancia  \n",
       "1020       $7.80      $92.24   Precencial  \n",
       "125       $18.00      $63.35  A_distancia  "
      ]
     },
     "execution_count": 4,
     "metadata": {},
     "output_type": "execute_result"
    }
   ],
   "source": [
    "df.sample(5)"
   ]
  },
  {
   "cell_type": "code",
   "execution_count": 5,
   "metadata": {},
   "outputs": [
    {
     "data": {
      "text/plain": [
       "(1251, 7)"
      ]
     },
     "execution_count": 5,
     "metadata": {},
     "output_type": "execute_result"
    }
   ],
   "source": [
    "df.shape"
   ]
  },
  {
   "cell_type": "code",
   "execution_count": 6,
   "metadata": {},
   "outputs": [],
   "source": [
    "df2 = df"
   ]
  },
  {
   "cell_type": "code",
   "execution_count": 7,
   "metadata": {},
   "outputs": [],
   "source": [
    "df3 = pd.concat([df, df2])"
   ]
  },
  {
   "cell_type": "code",
   "execution_count": 8,
   "metadata": {},
   "outputs": [
    {
     "data": {
      "text/plain": [
       "(2502, 7)"
      ]
     },
     "execution_count": 8,
     "metadata": {},
     "output_type": "execute_result"
    }
   ],
   "source": [
    "df3.shape"
   ]
  },
  {
   "cell_type": "code",
   "execution_count": 9,
   "metadata": {},
   "outputs": [],
   "source": [
    "df4 = df3.iloc[:2000]"
   ]
  },
  {
   "cell_type": "code",
   "execution_count": 10,
   "metadata": {},
   "outputs": [
    {
     "data": {
      "text/plain": [
       "(2000, 7)"
      ]
     },
     "execution_count": 10,
     "metadata": {},
     "output_type": "execute_result"
    }
   ],
   "source": [
    "df4.shape"
   ]
  },
  {
   "cell_type": "code",
   "execution_count": null,
   "metadata": {},
   "outputs": [],
   "source": [
    "#id_search, short_description, long_description\n",
    "#salary_range1\n",
    "#position  , employer_name ,description eliminar de base de datos"
   ]
  },
  {
   "cell_type": "code",
   "execution_count": 11,
   "metadata": {},
   "outputs": [
    {
     "name": "stderr",
     "output_type": "stream",
     "text": [
      "C:\\ProgramData\\Anaconda3\\lib\\site-packages\\ipykernel_launcher.py:3: SettingWithCopyWarning: \n",
      "A value is trying to be set on a copy of a slice from a DataFrame.\n",
      "Try using .loc[row_indexer,col_indexer] = value instead\n",
      "\n",
      "See the caveats in the documentation: https://pandas.pydata.org/pandas-docs/stable/user_guide/indexing.html#returning-a-view-versus-a-copy\n",
      "  This is separate from the ipykernel package so we can avoid doing imports until\n"
     ]
    }
   ],
   "source": [
    "i = [i for i in range(2000)]\n",
    "id_search = pd.Series(i)\n",
    "df4['id_search'] = id_search"
   ]
  },
  {
   "cell_type": "code",
   "execution_count": 12,
   "metadata": {},
   "outputs": [
    {
     "data": {
      "text/plain": [
       "(2000, 8)"
      ]
     },
     "execution_count": 12,
     "metadata": {},
     "output_type": "execute_result"
    }
   ],
   "source": [
    "df4.shape"
   ]
  },
  {
   "cell_type": "code",
   "execution_count": 13,
   "metadata": {},
   "outputs": [
    {
     "name": "stderr",
     "output_type": "stream",
     "text": [
      "C:\\ProgramData\\Anaconda3\\lib\\site-packages\\pandas\\core\\frame.py:4133: SettingWithCopyWarning: \n",
      "A value is trying to be set on a copy of a slice from a DataFrame\n",
      "\n",
      "See the caveats in the documentation: https://pandas.pydata.org/pandas-docs/stable/user_guide/indexing.html#returning-a-view-versus-a-copy\n",
      "  errors=errors,\n"
     ]
    }
   ],
   "source": [
    "df4.rename(columns={'payment_max':'salary_range1','payment_min':'salary_range2'}, inplace=True)"
   ]
  },
  {
   "cell_type": "code",
   "execution_count": 14,
   "metadata": {},
   "outputs": [],
   "source": [
    "df5= pd.read_csv('../data_wedev/data_useful/description1.csv')"
   ]
  },
  {
   "cell_type": "code",
   "execution_count": 15,
   "metadata": {},
   "outputs": [],
   "source": [
    "df6= pd.read_csv('../data_wedev/data_useful/description2.csv')"
   ]
  },
  {
   "cell_type": "code",
   "execution_count": 16,
   "metadata": {},
   "outputs": [],
   "source": [
    "df7 = pd.concat([df5, df6])"
   ]
  },
  {
   "cell_type": "code",
   "execution_count": 17,
   "metadata": {},
   "outputs": [
    {
     "data": {
      "text/plain": [
       "(2000, 2)"
      ]
     },
     "execution_count": 17,
     "metadata": {},
     "output_type": "execute_result"
    }
   ],
   "source": [
    "df7.shape"
   ]
  },
  {
   "cell_type": "code",
   "execution_count": 19,
   "metadata": {},
   "outputs": [
    {
     "data": {
      "text/plain": [
       "short_description    2000\n",
       "long_description     2000\n",
       "dtype: int64"
      ]
     },
     "execution_count": 19,
     "metadata": {},
     "output_type": "execute_result"
    }
   ],
   "source": [
    "df7.isnull().count()"
   ]
  },
  {
   "cell_type": "code",
   "execution_count": 20,
   "metadata": {},
   "outputs": [],
   "source": [
    "result = pd.merge(df4.reset_index(),\n",
    "                  df7.reset_index(), \n",
    "                  left_index=True, \n",
    "                  right_index=True)"
   ]
  },
  {
   "cell_type": "code",
   "execution_count": 23,
   "metadata": {},
   "outputs": [
    {
     "data": {
      "text/html": [
       "<div>\n",
       "<style scoped>\n",
       "    .dataframe tbody tr th:only-of-type {\n",
       "        vertical-align: middle;\n",
       "    }\n",
       "\n",
       "    .dataframe tbody tr th {\n",
       "        vertical-align: top;\n",
       "    }\n",
       "\n",
       "    .dataframe thead th {\n",
       "        text-align: right;\n",
       "    }\n",
       "</style>\n",
       "<table border=\"1\" class=\"dataframe\">\n",
       "  <thead>\n",
       "    <tr style=\"text-align: right;\">\n",
       "      <th></th>\n",
       "      <th>category</th>\n",
       "      <th>title</th>\n",
       "      <th>requariments</th>\n",
       "      <th>schedule</th>\n",
       "      <th>salary_range1</th>\n",
       "      <th>salary_range2</th>\n",
       "      <th>modality</th>\n",
       "      <th>id_search</th>\n",
       "      <th>short_description</th>\n",
       "      <th>long_description</th>\n",
       "    </tr>\n",
       "  </thead>\n",
       "  <tbody>\n",
       "    <tr>\n",
       "      <th>0</th>\n",
       "      <td>HR</td>\n",
       "      <td>Senior Vice President &amp; Head of HRCompany Name...</td>\n",
       "      <td>['Performance Management', 'Human Resources', ...</td>\n",
       "      <td>3/8/2021</td>\n",
       "      <td>$33.21</td>\n",
       "      <td>$97.59</td>\n",
       "      <td>A_distancia</td>\n",
       "      <td>0</td>\n",
       "      <td>modular</td>\n",
       "      <td>transition compelling models</td>\n",
       "    </tr>\n",
       "    <tr>\n",
       "      <th>1</th>\n",
       "      <td>HR</td>\n",
       "      <td>Head of Talent Acquisition - India &amp; APAC and ...</td>\n",
       "      <td>['Talent Acquisition', 'Employee Engagement', ...</td>\n",
       "      <td>4/29/2021</td>\n",
       "      <td>$41.94</td>\n",
       "      <td>$76.31</td>\n",
       "      <td>Precencial</td>\n",
       "      <td>1</td>\n",
       "      <td>Implemented</td>\n",
       "      <td>engineer interactive platforms</td>\n",
       "    </tr>\n",
       "    <tr>\n",
       "      <th>2</th>\n",
       "      <td>HR</td>\n",
       "      <td>Company NameIBM INDIA Pvt LtdTotal Duration8 y...</td>\n",
       "      <td>['Human Resources', 'Recruiting', 'Team Manage...</td>\n",
       "      <td>9/1/2021</td>\n",
       "      <td>$26.24</td>\n",
       "      <td>$95.85</td>\n",
       "      <td>Mixto</td>\n",
       "      <td>2</td>\n",
       "      <td>process improvement</td>\n",
       "      <td>generate frictionless deliverables</td>\n",
       "    </tr>\n",
       "    <tr>\n",
       "      <th>3</th>\n",
       "      <td>HR</td>\n",
       "      <td>HR/Admin/Personnel/LegalCompany NameHR and HR ...</td>\n",
       "      <td>['']</td>\n",
       "      <td>4/30/2021</td>\n",
       "      <td>$35.55</td>\n",
       "      <td>$52.16</td>\n",
       "      <td>A_distancia</td>\n",
       "      <td>3</td>\n",
       "      <td>system-worthy</td>\n",
       "      <td>evolve 24/7 vortals</td>\n",
       "    </tr>\n",
       "    <tr>\n",
       "      <th>4</th>\n",
       "      <td>HR</td>\n",
       "      <td>Company NameEXLTotal Duration6 yrs 4 mosTitleV...</td>\n",
       "      <td>['Team Management', 'Human Resources', 'Employ...</td>\n",
       "      <td>2/13/2021</td>\n",
       "      <td>$43.04</td>\n",
       "      <td>$52.93</td>\n",
       "      <td>Precencial</td>\n",
       "      <td>4</td>\n",
       "      <td>Assimilated</td>\n",
       "      <td>revolutionize extensible content</td>\n",
       "    </tr>\n",
       "  </tbody>\n",
       "</table>\n",
       "</div>"
      ],
      "text/plain": [
       "  category                                              title  \\\n",
       "0       HR  Senior Vice President & Head of HRCompany Name...   \n",
       "1       HR  Head of Talent Acquisition - India & APAC and ...   \n",
       "2       HR  Company NameIBM INDIA Pvt LtdTotal Duration8 y...   \n",
       "3       HR  HR/Admin/Personnel/LegalCompany NameHR and HR ...   \n",
       "4       HR  Company NameEXLTotal Duration6 yrs 4 mosTitleV...   \n",
       "\n",
       "                                        requariments   schedule salary_range1  \\\n",
       "0  ['Performance Management', 'Human Resources', ...   3/8/2021        $33.21   \n",
       "1  ['Talent Acquisition', 'Employee Engagement', ...  4/29/2021        $41.94   \n",
       "2  ['Human Resources', 'Recruiting', 'Team Manage...   9/1/2021        $26.24   \n",
       "3                                               ['']  4/30/2021        $35.55   \n",
       "4  ['Team Management', 'Human Resources', 'Employ...  2/13/2021        $43.04   \n",
       "\n",
       "  salary_range2     modality  id_search    short_description  \\\n",
       "0        $97.59  A_distancia          0              modular   \n",
       "1        $76.31   Precencial          1          Implemented   \n",
       "2        $95.85        Mixto          2  process improvement   \n",
       "3        $52.16  A_distancia          3        system-worthy   \n",
       "4        $52.93   Precencial          4          Assimilated   \n",
       "\n",
       "                     long_description  \n",
       "0        transition compelling models  \n",
       "1      engineer interactive platforms  \n",
       "2  generate frictionless deliverables  \n",
       "3                 evolve 24/7 vortals  \n",
       "4    revolutionize extensible content  "
      ]
     },
     "execution_count": 23,
     "metadata": {},
     "output_type": "execute_result"
    }
   ],
   "source": [
    "result.head(5)"
   ]
  },
  {
   "cell_type": "code",
   "execution_count": 22,
   "metadata": {},
   "outputs": [],
   "source": [
    "result.drop(['index_x','index_y'],axis=1, inplace=True)"
   ]
  }
 ],
 "metadata": {
  "kernelspec": {
   "display_name": "Python 3",
   "language": "python",
   "name": "python3"
  },
  "language_info": {
   "codemirror_mode": {
    "name": "ipython",
    "version": 3
   },
   "file_extension": ".py",
   "mimetype": "text/x-python",
   "name": "python",
   "nbconvert_exporter": "python",
   "pygments_lexer": "ipython3",
   "version": "3.7.6"
  }
 },
 "nbformat": 4,
 "nbformat_minor": 4
}
