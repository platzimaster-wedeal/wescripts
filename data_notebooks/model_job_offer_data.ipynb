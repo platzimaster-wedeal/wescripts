{
 "cells": [
  {
   "cell_type": "code",
   "execution_count": 1,
   "metadata": {},
   "outputs": [],
   "source": [
    "import pandas as pd"
   ]
  },
  {
   "cell_type": "code",
   "execution_count": 5,
   "metadata": {},
   "outputs": [],
   "source": [
    "df= pd.read_csv('../data_wedev/data_version_2/job_offer.csv')"
   ]
  },
  {
   "cell_type": "code",
   "execution_count": 6,
   "metadata": {},
   "outputs": [
    {
     "data": {
      "text/html": [
       "<div>\n",
       "<style scoped>\n",
       "    .dataframe tbody tr th:only-of-type {\n",
       "        vertical-align: middle;\n",
       "    }\n",
       "\n",
       "    .dataframe tbody tr th {\n",
       "        vertical-align: top;\n",
       "    }\n",
       "\n",
       "    .dataframe thead th {\n",
       "        text-align: right;\n",
       "    }\n",
       "</style>\n",
       "<table border=\"1\" class=\"dataframe\">\n",
       "  <thead>\n",
       "    <tr style=\"text-align: right;\">\n",
       "      <th></th>\n",
       "      <th>category</th>\n",
       "      <th>title</th>\n",
       "      <th>requariments</th>\n",
       "      <th>schedule</th>\n",
       "      <th>payment_max</th>\n",
       "      <th>payment_min</th>\n",
       "      <th>modality</th>\n",
       "    </tr>\n",
       "  </thead>\n",
       "  <tbody>\n",
       "    <tr>\n",
       "      <th>316</th>\n",
       "      <td>Business Development</td>\n",
       "      <td>Senior Advisor - Business Development and Mark...</td>\n",
       "      <td>['Business Development', 'Strategy', 'Marketin...</td>\n",
       "      <td>5/10/2021</td>\n",
       "      <td>$25.35</td>\n",
       "      <td>$91.45</td>\n",
       "      <td>Precencial</td>\n",
       "    </tr>\n",
       "    <tr>\n",
       "      <th>344</th>\n",
       "      <td>Business Development</td>\n",
       "      <td>Business Development ExecutiveCompany NameHara...</td>\n",
       "      <td>['Microsoft Office', 'Customer Service', 'Mana...</td>\n",
       "      <td>6/12/2021</td>\n",
       "      <td>$17.15</td>\n",
       "      <td>$77.12</td>\n",
       "      <td>Precencial</td>\n",
       "    </tr>\n",
       "    <tr>\n",
       "      <th>992</th>\n",
       "      <td>Apparel</td>\n",
       "      <td>cmdCompany NameTextile and ApparelDates Employ...</td>\n",
       "      <td>['Microsoft Excel', 'Management', 'Business St...</td>\n",
       "      <td>1/12/2021</td>\n",
       "      <td>$1.28</td>\n",
       "      <td>$69.59</td>\n",
       "      <td>A_distancia</td>\n",
       "    </tr>\n",
       "    <tr>\n",
       "      <th>1133</th>\n",
       "      <td>Public Relations</td>\n",
       "      <td>Communications and Public Affairs ManagerCompa...</td>\n",
       "      <td>['Reputation Management', 'Crisis Management',...</td>\n",
       "      <td>2/21/2021</td>\n",
       "      <td>$28.00</td>\n",
       "      <td>$81.92</td>\n",
       "      <td>A_distancia</td>\n",
       "    </tr>\n",
       "    <tr>\n",
       "      <th>862</th>\n",
       "      <td>Food &amp; Beverages</td>\n",
       "      <td>BusinessheadCompany NamePureShot Food &amp; Bevera...</td>\n",
       "      <td>['']</td>\n",
       "      <td>2/18/2021</td>\n",
       "      <td>$14.12</td>\n",
       "      <td>$56.00</td>\n",
       "      <td>A_distancia</td>\n",
       "    </tr>\n",
       "  </tbody>\n",
       "</table>\n",
       "</div>"
      ],
      "text/plain": [
       "                  category                                              title  \\\n",
       "316   Business Development  Senior Advisor - Business Development and Mark...   \n",
       "344   Business Development  Business Development ExecutiveCompany NameHara...   \n",
       "992                Apparel  cmdCompany NameTextile and ApparelDates Employ...   \n",
       "1133      Public Relations  Communications and Public Affairs ManagerCompa...   \n",
       "862       Food & Beverages  BusinessheadCompany NamePureShot Food & Bevera...   \n",
       "\n",
       "                                           requariments   schedule  \\\n",
       "316   ['Business Development', 'Strategy', 'Marketin...  5/10/2021   \n",
       "344   ['Microsoft Office', 'Customer Service', 'Mana...  6/12/2021   \n",
       "992   ['Microsoft Excel', 'Management', 'Business St...  1/12/2021   \n",
       "1133  ['Reputation Management', 'Crisis Management',...  2/21/2021   \n",
       "862                                                ['']  2/18/2021   \n",
       "\n",
       "     payment_max payment_min     modality  \n",
       "316       $25.35      $91.45   Precencial  \n",
       "344       $17.15      $77.12   Precencial  \n",
       "992        $1.28      $69.59  A_distancia  \n",
       "1133      $28.00      $81.92  A_distancia  \n",
       "862       $14.12      $56.00  A_distancia  "
      ]
     },
     "execution_count": 6,
     "metadata": {},
     "output_type": "execute_result"
    }
   ],
   "source": [
    "df.sample(5)"
   ]
  },
  {
   "cell_type": "code",
   "execution_count": 7,
   "metadata": {},
   "outputs": [],
   "source": [
    "df.drop(['requariments','title','schedule','modality','payment_max','payment_min'],axis=1, inplace=True)"
   ]
  },
  {
   "cell_type": "code",
   "execution_count": 8,
   "metadata": {},
   "outputs": [
    {
     "data": {
      "text/html": [
       "<div>\n",
       "<style scoped>\n",
       "    .dataframe tbody tr th:only-of-type {\n",
       "        vertical-align: middle;\n",
       "    }\n",
       "\n",
       "    .dataframe tbody tr th {\n",
       "        vertical-align: top;\n",
       "    }\n",
       "\n",
       "    .dataframe thead th {\n",
       "        text-align: right;\n",
       "    }\n",
       "</style>\n",
       "<table border=\"1\" class=\"dataframe\">\n",
       "  <thead>\n",
       "    <tr style=\"text-align: right;\">\n",
       "      <th></th>\n",
       "      <th>category</th>\n",
       "    </tr>\n",
       "  </thead>\n",
       "  <tbody>\n",
       "    <tr>\n",
       "      <th>318</th>\n",
       "      <td>Business Development</td>\n",
       "    </tr>\n",
       "    <tr>\n",
       "      <th>831</th>\n",
       "      <td>Automobile</td>\n",
       "    </tr>\n",
       "    <tr>\n",
       "      <th>880</th>\n",
       "      <td>Food &amp; Beverages</td>\n",
       "    </tr>\n",
       "    <tr>\n",
       "      <th>1046</th>\n",
       "      <td>Accountant</td>\n",
       "    </tr>\n",
       "    <tr>\n",
       "      <th>398</th>\n",
       "      <td>Health &amp; Fitness</td>\n",
       "    </tr>\n",
       "  </tbody>\n",
       "</table>\n",
       "</div>"
      ],
      "text/plain": [
       "                  category\n",
       "318   Business Development\n",
       "831             Automobile\n",
       "880       Food & Beverages\n",
       "1046            Accountant\n",
       "398       Health & Fitness"
      ]
     },
     "execution_count": 8,
     "metadata": {},
     "output_type": "execute_result"
    }
   ],
   "source": [
    "df.sample(5)"
   ]
  },
  {
   "cell_type": "code",
   "execution_count": 9,
   "metadata": {},
   "outputs": [
    {
     "data": {
      "text/plain": [
       "(1251, 1)"
      ]
     },
     "execution_count": 9,
     "metadata": {},
     "output_type": "execute_result"
    }
   ],
   "source": [
    "df.shape"
   ]
  },
  {
   "cell_type": "code",
   "execution_count": 11,
   "metadata": {},
   "outputs": [],
   "source": [
    "i = [i for i in range(1251)]\n",
    "users = pd.Series(i)"
   ]
  },
  {
   "cell_type": "code",
   "execution_count": 13,
   "metadata": {},
   "outputs": [],
   "source": [
    "job_offer_data = pd.get_dummies(df)"
   ]
  },
  {
   "cell_type": "code",
   "execution_count": 14,
   "metadata": {},
   "outputs": [
    {
     "data": {
      "text/plain": [
       "(1251, 25)"
      ]
     },
     "execution_count": 14,
     "metadata": {},
     "output_type": "execute_result"
    }
   ],
   "source": [
    "job_offer_data.shape"
   ]
  },
  {
   "cell_type": "code",
   "execution_count": 15,
   "metadata": {},
   "outputs": [],
   "source": [
    "job_offer_data['user_id'] = users"
   ]
  },
  {
   "cell_type": "code",
   "execution_count": 16,
   "metadata": {},
   "outputs": [
    {
     "data": {
      "text/plain": [
       "(1251, 26)"
      ]
     },
     "execution_count": 16,
     "metadata": {},
     "output_type": "execute_result"
    }
   ],
   "source": [
    "job_offer_data.shape"
   ]
  },
  {
   "cell_type": "code",
   "execution_count": 17,
   "metadata": {},
   "outputs": [
    {
     "data": {
      "text/html": [
       "<div>\n",
       "<style scoped>\n",
       "    .dataframe tbody tr th:only-of-type {\n",
       "        vertical-align: middle;\n",
       "    }\n",
       "\n",
       "    .dataframe tbody tr th {\n",
       "        vertical-align: top;\n",
       "    }\n",
       "\n",
       "    .dataframe thead th {\n",
       "        text-align: right;\n",
       "    }\n",
       "</style>\n",
       "<table border=\"1\" class=\"dataframe\">\n",
       "  <thead>\n",
       "    <tr style=\"text-align: right;\">\n",
       "      <th></th>\n",
       "      <th>category_Accountant</th>\n",
       "      <th>category_Advocate</th>\n",
       "      <th>category_Agricultural</th>\n",
       "      <th>category_Apparel</th>\n",
       "      <th>category_Architects</th>\n",
       "      <th>category_Arts</th>\n",
       "      <th>category_Automobile</th>\n",
       "      <th>category_Aviation</th>\n",
       "      <th>category_BPO</th>\n",
       "      <th>category_Banking</th>\n",
       "      <th>...</th>\n",
       "      <th>category_Engineering</th>\n",
       "      <th>category_Finance</th>\n",
       "      <th>category_Food &amp; Beverages</th>\n",
       "      <th>category_HR</th>\n",
       "      <th>category_Health &amp; Fitness</th>\n",
       "      <th>category_Information Technology</th>\n",
       "      <th>category_Managment</th>\n",
       "      <th>category_Public Relations</th>\n",
       "      <th>category_Sales</th>\n",
       "      <th>user_id</th>\n",
       "    </tr>\n",
       "  </thead>\n",
       "  <tbody>\n",
       "    <tr>\n",
       "      <th>0</th>\n",
       "      <td>0</td>\n",
       "      <td>0</td>\n",
       "      <td>0</td>\n",
       "      <td>0</td>\n",
       "      <td>0</td>\n",
       "      <td>0</td>\n",
       "      <td>0</td>\n",
       "      <td>0</td>\n",
       "      <td>0</td>\n",
       "      <td>0</td>\n",
       "      <td>...</td>\n",
       "      <td>0</td>\n",
       "      <td>0</td>\n",
       "      <td>0</td>\n",
       "      <td>1</td>\n",
       "      <td>0</td>\n",
       "      <td>0</td>\n",
       "      <td>0</td>\n",
       "      <td>0</td>\n",
       "      <td>0</td>\n",
       "      <td>0</td>\n",
       "    </tr>\n",
       "    <tr>\n",
       "      <th>1</th>\n",
       "      <td>0</td>\n",
       "      <td>0</td>\n",
       "      <td>0</td>\n",
       "      <td>0</td>\n",
       "      <td>0</td>\n",
       "      <td>0</td>\n",
       "      <td>0</td>\n",
       "      <td>0</td>\n",
       "      <td>0</td>\n",
       "      <td>0</td>\n",
       "      <td>...</td>\n",
       "      <td>0</td>\n",
       "      <td>0</td>\n",
       "      <td>0</td>\n",
       "      <td>1</td>\n",
       "      <td>0</td>\n",
       "      <td>0</td>\n",
       "      <td>0</td>\n",
       "      <td>0</td>\n",
       "      <td>0</td>\n",
       "      <td>1</td>\n",
       "    </tr>\n",
       "    <tr>\n",
       "      <th>2</th>\n",
       "      <td>0</td>\n",
       "      <td>0</td>\n",
       "      <td>0</td>\n",
       "      <td>0</td>\n",
       "      <td>0</td>\n",
       "      <td>0</td>\n",
       "      <td>0</td>\n",
       "      <td>0</td>\n",
       "      <td>0</td>\n",
       "      <td>0</td>\n",
       "      <td>...</td>\n",
       "      <td>0</td>\n",
       "      <td>0</td>\n",
       "      <td>0</td>\n",
       "      <td>1</td>\n",
       "      <td>0</td>\n",
       "      <td>0</td>\n",
       "      <td>0</td>\n",
       "      <td>0</td>\n",
       "      <td>0</td>\n",
       "      <td>2</td>\n",
       "    </tr>\n",
       "    <tr>\n",
       "      <th>3</th>\n",
       "      <td>0</td>\n",
       "      <td>0</td>\n",
       "      <td>0</td>\n",
       "      <td>0</td>\n",
       "      <td>0</td>\n",
       "      <td>0</td>\n",
       "      <td>0</td>\n",
       "      <td>0</td>\n",
       "      <td>0</td>\n",
       "      <td>0</td>\n",
       "      <td>...</td>\n",
       "      <td>0</td>\n",
       "      <td>0</td>\n",
       "      <td>0</td>\n",
       "      <td>1</td>\n",
       "      <td>0</td>\n",
       "      <td>0</td>\n",
       "      <td>0</td>\n",
       "      <td>0</td>\n",
       "      <td>0</td>\n",
       "      <td>3</td>\n",
       "    </tr>\n",
       "    <tr>\n",
       "      <th>4</th>\n",
       "      <td>0</td>\n",
       "      <td>0</td>\n",
       "      <td>0</td>\n",
       "      <td>0</td>\n",
       "      <td>0</td>\n",
       "      <td>0</td>\n",
       "      <td>0</td>\n",
       "      <td>0</td>\n",
       "      <td>0</td>\n",
       "      <td>0</td>\n",
       "      <td>...</td>\n",
       "      <td>0</td>\n",
       "      <td>0</td>\n",
       "      <td>0</td>\n",
       "      <td>1</td>\n",
       "      <td>0</td>\n",
       "      <td>0</td>\n",
       "      <td>0</td>\n",
       "      <td>0</td>\n",
       "      <td>0</td>\n",
       "      <td>4</td>\n",
       "    </tr>\n",
       "  </tbody>\n",
       "</table>\n",
       "<p>5 rows × 26 columns</p>\n",
       "</div>"
      ],
      "text/plain": [
       "   category_Accountant  category_Advocate  category_Agricultural  \\\n",
       "0                    0                  0                      0   \n",
       "1                    0                  0                      0   \n",
       "2                    0                  0                      0   \n",
       "3                    0                  0                      0   \n",
       "4                    0                  0                      0   \n",
       "\n",
       "   category_Apparel  category_Architects  category_Arts  category_Automobile  \\\n",
       "0                 0                    0              0                    0   \n",
       "1                 0                    0              0                    0   \n",
       "2                 0                    0              0                    0   \n",
       "3                 0                    0              0                    0   \n",
       "4                 0                    0              0                    0   \n",
       "\n",
       "   category_Aviation  category_BPO  category_Banking  ...  \\\n",
       "0                  0             0                 0  ...   \n",
       "1                  0             0                 0  ...   \n",
       "2                  0             0                 0  ...   \n",
       "3                  0             0                 0  ...   \n",
       "4                  0             0                 0  ...   \n",
       "\n",
       "   category_Engineering  category_Finance  category_Food & Beverages  \\\n",
       "0                     0                 0                          0   \n",
       "1                     0                 0                          0   \n",
       "2                     0                 0                          0   \n",
       "3                     0                 0                          0   \n",
       "4                     0                 0                          0   \n",
       "\n",
       "   category_HR  category_Health & Fitness  category_Information Technology  \\\n",
       "0            1                          0                                0   \n",
       "1            1                          0                                0   \n",
       "2            1                          0                                0   \n",
       "3            1                          0                                0   \n",
       "4            1                          0                                0   \n",
       "\n",
       "   category_Managment  category_Public Relations  category_Sales  user_id  \n",
       "0                   0                          0               0        0  \n",
       "1                   0                          0               0        1  \n",
       "2                   0                          0               0        2  \n",
       "3                   0                          0               0        3  \n",
       "4                   0                          0               0        4  \n",
       "\n",
       "[5 rows x 26 columns]"
      ]
     },
     "execution_count": 17,
     "metadata": {},
     "output_type": "execute_result"
    }
   ],
   "source": [
    "job_offer_data.head(5)"
   ]
  },
  {
   "cell_type": "code",
   "execution_count": 18,
   "metadata": {},
   "outputs": [],
   "source": [
    "job_offer_data.to_csv(index=False, path_or_buf = '../data_wedev/model_data/job_offer_data.csv')"
   ]
  }
 ],
 "metadata": {
  "kernelspec": {
   "display_name": "Python 3",
   "language": "python",
   "name": "python3"
  },
  "language_info": {
   "codemirror_mode": {
    "name": "ipython",
    "version": 3
   },
   "file_extension": ".py",
   "mimetype": "text/x-python",
   "name": "python",
   "nbconvert_exporter": "python",
   "pygments_lexer": "ipython3",
   "version": "3.7.6"
  }
 },
 "nbformat": 4,
 "nbformat_minor": 4
}
