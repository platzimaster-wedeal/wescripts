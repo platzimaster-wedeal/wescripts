{
 "cells": [
  {
   "cell_type": "code",
   "execution_count": 1,
   "metadata": {},
   "outputs": [],
   "source": [
    "import pandas as pd"
   ]
  },
  {
   "cell_type": "code",
   "execution_count": 2,
   "metadata": {},
   "outputs": [],
   "source": [
    "df_ex_edu= pd.read_csv('../data_wedev/data_useful/salaries-by-college-type.csv')"
   ]
  },
  {
   "cell_type": "code",
   "execution_count": 3,
   "metadata": {},
   "outputs": [
    {
     "data": {
      "text/html": [
       "<div>\n",
       "<style scoped>\n",
       "    .dataframe tbody tr th:only-of-type {\n",
       "        vertical-align: middle;\n",
       "    }\n",
       "\n",
       "    .dataframe tbody tr th {\n",
       "        vertical-align: top;\n",
       "    }\n",
       "\n",
       "    .dataframe thead th {\n",
       "        text-align: right;\n",
       "    }\n",
       "</style>\n",
       "<table border=\"1\" class=\"dataframe\">\n",
       "  <thead>\n",
       "    <tr style=\"text-align: right;\">\n",
       "      <th></th>\n",
       "      <th>School Name</th>\n",
       "      <th>School Type</th>\n",
       "      <th>Starting Median Salary</th>\n",
       "      <th>Mid-Career Median Salary</th>\n",
       "      <th>Mid-Career 10th Percentile Salary</th>\n",
       "      <th>Mid-Career 25th Percentile Salary</th>\n",
       "      <th>Mid-Career 75th Percentile Salary</th>\n",
       "      <th>Mid-Career 90th Percentile Salary</th>\n",
       "    </tr>\n",
       "  </thead>\n",
       "  <tbody>\n",
       "    <tr>\n",
       "      <th>190</th>\n",
       "      <td>University of Massachusetts (UMass) - Dartmouth</td>\n",
       "      <td>State</td>\n",
       "      <td>$43,200.00</td>\n",
       "      <td>$77,700.00</td>\n",
       "      <td>$43,300.00</td>\n",
       "      <td>$56,200.00</td>\n",
       "      <td>$107,000.00</td>\n",
       "      <td>$132,000.00</td>\n",
       "    </tr>\n",
       "    <tr>\n",
       "      <th>148</th>\n",
       "      <td>Oregon State University (OSU)</td>\n",
       "      <td>State</td>\n",
       "      <td>$45,100.00</td>\n",
       "      <td>$83,300.00</td>\n",
       "      <td>$46,900.00</td>\n",
       "      <td>$64,000.00</td>\n",
       "      <td>$113,000.00</td>\n",
       "      <td>$146,000.00</td>\n",
       "    </tr>\n",
       "    <tr>\n",
       "      <th>30</th>\n",
       "      <td>University of Iowa (UI)</td>\n",
       "      <td>Party</td>\n",
       "      <td>$44,700.00</td>\n",
       "      <td>$83,900.00</td>\n",
       "      <td>$43,300.00</td>\n",
       "      <td>$61,100.00</td>\n",
       "      <td>$116,000.00</td>\n",
       "      <td>$163,000.00</td>\n",
       "    </tr>\n",
       "    <tr>\n",
       "      <th>214</th>\n",
       "      <td>Florida State University (FSU)</td>\n",
       "      <td>State</td>\n",
       "      <td>$42,100.00</td>\n",
       "      <td>$73,000.00</td>\n",
       "      <td>$39,600.00</td>\n",
       "      <td>$52,800.00</td>\n",
       "      <td>$107,000.00</td>\n",
       "      <td>$156,000.00</td>\n",
       "    </tr>\n",
       "    <tr>\n",
       "      <th>204</th>\n",
       "      <td>University of Arkansas - Monticello (UAM)</td>\n",
       "      <td>State</td>\n",
       "      <td>$39,200.00</td>\n",
       "      <td>$74,500.00</td>\n",
       "      <td>$32,800.00</td>\n",
       "      <td>$46,100.00</td>\n",
       "      <td>$110,000.00</td>\n",
       "      <td>$161,000.00</td>\n",
       "    </tr>\n",
       "  </tbody>\n",
       "</table>\n",
       "</div>"
      ],
      "text/plain": [
       "                                         School Name School Type  \\\n",
       "190  University of Massachusetts (UMass) - Dartmouth       State   \n",
       "148                    Oregon State University (OSU)       State   \n",
       "30                           University of Iowa (UI)       Party   \n",
       "214                   Florida State University (FSU)       State   \n",
       "204        University of Arkansas - Monticello (UAM)       State   \n",
       "\n",
       "    Starting Median Salary Mid-Career Median Salary  \\\n",
       "190             $43,200.00               $77,700.00   \n",
       "148             $45,100.00               $83,300.00   \n",
       "30              $44,700.00               $83,900.00   \n",
       "214             $42,100.00               $73,000.00   \n",
       "204             $39,200.00               $74,500.00   \n",
       "\n",
       "    Mid-Career 10th Percentile Salary Mid-Career 25th Percentile Salary  \\\n",
       "190                        $43,300.00                        $56,200.00   \n",
       "148                        $46,900.00                        $64,000.00   \n",
       "30                         $43,300.00                        $61,100.00   \n",
       "214                        $39,600.00                        $52,800.00   \n",
       "204                        $32,800.00                        $46,100.00   \n",
       "\n",
       "    Mid-Career 75th Percentile Salary Mid-Career 90th Percentile Salary  \n",
       "190                       $107,000.00                       $132,000.00  \n",
       "148                       $113,000.00                       $146,000.00  \n",
       "30                        $116,000.00                       $163,000.00  \n",
       "214                       $107,000.00                       $156,000.00  \n",
       "204                       $110,000.00                       $161,000.00  "
      ]
     },
     "execution_count": 3,
     "metadata": {},
     "output_type": "execute_result"
    }
   ],
   "source": [
    "df_ex_edu.sample(5)"
   ]
  },
  {
   "cell_type": "code",
   "execution_count": 4,
   "metadata": {},
   "outputs": [],
   "source": [
    "df_ex_edu.drop(['Starting Median Salary','Mid-Career Median Salary','Mid-Career 10th Percentile Salary','Mid-Career 25th Percentile Salary', 'Mid-Career 75th Percentile Salary', 'Mid-Career 90th Percentile Salary'],axis=1, inplace=True)\n"
   ]
  },
  {
   "cell_type": "code",
   "execution_count": 7,
   "metadata": {},
   "outputs": [
    {
     "data": {
      "text/plain": [
       "(269, 2)"
      ]
     },
     "execution_count": 7,
     "metadata": {},
     "output_type": "execute_result"
    }
   ],
   "source": [
    "df_ex_edu.shape"
   ]
  },
  {
   "cell_type": "code",
   "execution_count": 8,
   "metadata": {},
   "outputs": [],
   "source": [
    "df_ex_edu2= pd.read_csv('../data_wedev/data_useful/degrees-that-pay-back.csv')"
   ]
  },
  {
   "cell_type": "code",
   "execution_count": 9,
   "metadata": {},
   "outputs": [
    {
     "data": {
      "text/html": [
       "<div>\n",
       "<style scoped>\n",
       "    .dataframe tbody tr th:only-of-type {\n",
       "        vertical-align: middle;\n",
       "    }\n",
       "\n",
       "    .dataframe tbody tr th {\n",
       "        vertical-align: top;\n",
       "    }\n",
       "\n",
       "    .dataframe thead th {\n",
       "        text-align: right;\n",
       "    }\n",
       "</style>\n",
       "<table border=\"1\" class=\"dataframe\">\n",
       "  <thead>\n",
       "    <tr style=\"text-align: right;\">\n",
       "      <th></th>\n",
       "      <th>Undergraduate Major</th>\n",
       "      <th>Starting Median Salary</th>\n",
       "      <th>Mid-Career Median Salary</th>\n",
       "      <th>Percent change from Starting to Mid-Career Salary</th>\n",
       "      <th>Mid-Career 10th Percentile Salary</th>\n",
       "      <th>Mid-Career 25th Percentile Salary</th>\n",
       "      <th>Mid-Career 75th Percentile Salary</th>\n",
       "      <th>Mid-Career 90th Percentile Salary</th>\n",
       "    </tr>\n",
       "  </thead>\n",
       "  <tbody>\n",
       "    <tr>\n",
       "      <th>7</th>\n",
       "      <td>Business Management</td>\n",
       "      <td>$43,000.00</td>\n",
       "      <td>$72,100.00</td>\n",
       "      <td>67.7</td>\n",
       "      <td>$38,800.00</td>\n",
       "      <td>$51,500.00</td>\n",
       "      <td>$102,000.00</td>\n",
       "      <td>$147,000.00</td>\n",
       "    </tr>\n",
       "    <tr>\n",
       "      <th>39</th>\n",
       "      <td>Music</td>\n",
       "      <td>$35,900.00</td>\n",
       "      <td>$55,000.00</td>\n",
       "      <td>53.2</td>\n",
       "      <td>$26,700.00</td>\n",
       "      <td>$40,200.00</td>\n",
       "      <td>$88,000.00</td>\n",
       "      <td>$134,000.00</td>\n",
       "    </tr>\n",
       "    <tr>\n",
       "      <th>47</th>\n",
       "      <td>Religion</td>\n",
       "      <td>$34,100.00</td>\n",
       "      <td>$52,000.00</td>\n",
       "      <td>52.5</td>\n",
       "      <td>$29,700.00</td>\n",
       "      <td>$36,500.00</td>\n",
       "      <td>$70,900.00</td>\n",
       "      <td>$96,400.00</td>\n",
       "    </tr>\n",
       "    <tr>\n",
       "      <th>46</th>\n",
       "      <td>Psychology</td>\n",
       "      <td>$35,900.00</td>\n",
       "      <td>$60,400.00</td>\n",
       "      <td>68.2</td>\n",
       "      <td>$31,600.00</td>\n",
       "      <td>$42,100.00</td>\n",
       "      <td>$87,500.00</td>\n",
       "      <td>$127,000.00</td>\n",
       "    </tr>\n",
       "    <tr>\n",
       "      <th>31</th>\n",
       "      <td>Information Technology (IT)</td>\n",
       "      <td>$49,100.00</td>\n",
       "      <td>$74,800.00</td>\n",
       "      <td>52.3</td>\n",
       "      <td>$44,500.00</td>\n",
       "      <td>$56,700.00</td>\n",
       "      <td>$96,700.00</td>\n",
       "      <td>$129,000.00</td>\n",
       "    </tr>\n",
       "  </tbody>\n",
       "</table>\n",
       "</div>"
      ],
      "text/plain": [
       "            Undergraduate Major Starting Median Salary  \\\n",
       "7           Business Management             $43,000.00   \n",
       "39                        Music             $35,900.00   \n",
       "47                     Religion             $34,100.00   \n",
       "46                   Psychology             $35,900.00   \n",
       "31  Information Technology (IT)             $49,100.00   \n",
       "\n",
       "   Mid-Career Median Salary  \\\n",
       "7                $72,100.00   \n",
       "39               $55,000.00   \n",
       "47               $52,000.00   \n",
       "46               $60,400.00   \n",
       "31               $74,800.00   \n",
       "\n",
       "    Percent change from Starting to Mid-Career Salary  \\\n",
       "7                                                67.7   \n",
       "39                                               53.2   \n",
       "47                                               52.5   \n",
       "46                                               68.2   \n",
       "31                                               52.3   \n",
       "\n",
       "   Mid-Career 10th Percentile Salary Mid-Career 25th Percentile Salary  \\\n",
       "7                         $38,800.00                        $51,500.00   \n",
       "39                        $26,700.00                        $40,200.00   \n",
       "47                        $29,700.00                        $36,500.00   \n",
       "46                        $31,600.00                        $42,100.00   \n",
       "31                        $44,500.00                        $56,700.00   \n",
       "\n",
       "   Mid-Career 75th Percentile Salary Mid-Career 90th Percentile Salary  \n",
       "7                        $102,000.00                       $147,000.00  \n",
       "39                        $88,000.00                       $134,000.00  \n",
       "47                        $70,900.00                        $96,400.00  \n",
       "46                        $87,500.00                       $127,000.00  \n",
       "31                        $96,700.00                       $129,000.00  "
      ]
     },
     "execution_count": 9,
     "metadata": {},
     "output_type": "execute_result"
    }
   ],
   "source": [
    "df_ex_edu2.sample(5)"
   ]
  },
  {
   "cell_type": "code",
   "execution_count": 10,
   "metadata": {},
   "outputs": [],
   "source": [
    "df_ex_edu2.drop(['Starting Median Salary','Mid-Career Median Salary','Mid-Career 10th Percentile Salary','Mid-Career 25th Percentile Salary', 'Mid-Career 75th Percentile Salary', 'Mid-Career 90th Percentile Salary'],axis=1, inplace=True)\n"
   ]
  },
  {
   "cell_type": "code",
   "execution_count": 12,
   "metadata": {},
   "outputs": [],
   "source": [
    "df_ex_edu2.drop(['Percent change from Starting to Mid-Career Salary'],axis=1, inplace=True)\n"
   ]
  },
  {
   "cell_type": "code",
   "execution_count": 13,
   "metadata": {},
   "outputs": [
    {
     "data": {
      "text/html": [
       "<div>\n",
       "<style scoped>\n",
       "    .dataframe tbody tr th:only-of-type {\n",
       "        vertical-align: middle;\n",
       "    }\n",
       "\n",
       "    .dataframe tbody tr th {\n",
       "        vertical-align: top;\n",
       "    }\n",
       "\n",
       "    .dataframe thead th {\n",
       "        text-align: right;\n",
       "    }\n",
       "</style>\n",
       "<table border=\"1\" class=\"dataframe\">\n",
       "  <thead>\n",
       "    <tr style=\"text-align: right;\">\n",
       "      <th></th>\n",
       "      <th>Undergraduate Major</th>\n",
       "    </tr>\n",
       "  </thead>\n",
       "  <tbody>\n",
       "    <tr>\n",
       "      <th>41</th>\n",
       "      <td>Nutrition</td>\n",
       "    </tr>\n",
       "    <tr>\n",
       "      <th>16</th>\n",
       "      <td>Drama</td>\n",
       "    </tr>\n",
       "    <tr>\n",
       "      <th>38</th>\n",
       "      <td>Mechanical Engineering</td>\n",
       "    </tr>\n",
       "    <tr>\n",
       "      <th>1</th>\n",
       "      <td>Aerospace Engineering</td>\n",
       "    </tr>\n",
       "    <tr>\n",
       "      <th>24</th>\n",
       "      <td>Geography</td>\n",
       "    </tr>\n",
       "  </tbody>\n",
       "</table>\n",
       "</div>"
      ],
      "text/plain": [
       "       Undergraduate Major\n",
       "41               Nutrition\n",
       "16                   Drama\n",
       "38  Mechanical Engineering\n",
       "1    Aerospace Engineering\n",
       "24               Geography"
      ]
     },
     "execution_count": 13,
     "metadata": {},
     "output_type": "execute_result"
    }
   ],
   "source": [
    "df_ex_edu2.sample(5)"
   ]
  },
  {
   "cell_type": "code",
   "execution_count": 14,
   "metadata": {},
   "outputs": [
    {
     "data": {
      "text/plain": [
       "(50, 1)"
      ]
     },
     "execution_count": 14,
     "metadata": {},
     "output_type": "execute_result"
    }
   ],
   "source": [
    "df_ex_edu2.shape"
   ]
  },
  {
   "cell_type": "code",
   "execution_count": 15,
   "metadata": {},
   "outputs": [],
   "source": [
    "df_ex_edu3= pd.read_csv('../data_wedev/data_useful/education_experience.csv')\n",
    "df_ex_edu4= pd.read_csv('../data_wedev/data_useful/education_experience2.csv')"
   ]
  },
  {
   "cell_type": "code",
   "execution_count": 18,
   "metadata": {},
   "outputs": [
    {
     "data": {
      "text/plain": [
       "degree        1000\n",
       "university    1000\n",
       "dtype: int64"
      ]
     },
     "execution_count": 18,
     "metadata": {},
     "output_type": "execute_result"
    }
   ],
   "source": [
    "df_ex_edu4.isnull().count()\n"
   ]
  },
  {
   "cell_type": "code",
   "execution_count": 19,
   "metadata": {},
   "outputs": [],
   "source": [
    "education_experience_data=pd.concat([df_ex_edu3, df_ex_edu4])"
   ]
  },
  {
   "cell_type": "code",
   "execution_count": 20,
   "metadata": {},
   "outputs": [
    {
     "data": {
      "text/plain": [
       "(2000, 2)"
      ]
     },
     "execution_count": 20,
     "metadata": {},
     "output_type": "execute_result"
    }
   ],
   "source": [
    "education_experience_data.shape"
   ]
  },
  {
   "cell_type": "code",
   "execution_count": 21,
   "metadata": {},
   "outputs": [],
   "source": [
    "education_experience_data.to_csv(index=False, path_or_buf = '../data_wedev/data_version_2/education_experience_data.csv')"
   ]
  }
 ],
 "metadata": {
  "kernelspec": {
   "display_name": "Python 3",
   "language": "python",
   "name": "python3"
  },
  "language_info": {
   "codemirror_mode": {
    "name": "ipython",
    "version": 3
   },
   "file_extension": ".py",
   "mimetype": "text/x-python",
   "name": "python",
   "nbconvert_exporter": "python",
   "pygments_lexer": "ipython3",
   "version": "3.7.6"
  }
 },
 "nbformat": 4,
 "nbformat_minor": 4
}
